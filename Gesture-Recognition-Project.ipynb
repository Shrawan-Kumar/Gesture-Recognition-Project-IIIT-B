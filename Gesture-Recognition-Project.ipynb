{
 "cells": [
  {
   "cell_type": "markdown",
   "metadata": {},
   "source": [
    "**Gesture Recognition Project** Developed by:\n",
    "1. ***SHRAWAN KUMAR SAHU***\n",
    "2. ***Ganpati Prasad***\n",
    "\n",
    "\n",
    "\n",
    "### Problem Statement\n",
    "Imagine you are working as a data scientist at a home electronics company which manufactures state of the art smart televisions. You want to develop a cool feature in the smart-TV that can recognise five different gestures performed by the user which will help users control the TV without using a remote.\n",
    "\n",
    "The gestures are continuously monitored by the webcam mounted on the TV. Each gesture corresponds to a specific command:\n",
    " \n",
    "| Gesture | Corresponding Action |\n",
    "| --- | --- | \n",
    "| Thumbs Up | Increase the volume. |\n",
    "| Thumbs Down | Decrease the volume. |\n",
    "| Left Swipe | 'Jump' backwards 10 seconds. |\n",
    "| Right Swipe | 'Jump' forward 10 seconds. |\n",
    "| Stop | Pause the movie. |\n",
    "\n",
    "Each video is a sequence of 30 frames (or images).\n",
    "\n",
    "### Objectives:\n",
    "1. **Generator**:  The generator should be able to take a batch of videos as input without any error. Steps like cropping, resizing and normalization should be performed successfully.\n",
    "\n",
    "2. **Model**: Develop a model that is able to train without any errors which will be judged on the total number of parameters (as the inference(prediction) time should be less) and the accuracy achieved. As suggested by Snehansu, start training on a small amount of data and then proceed further.\n",
    "\n",
    "3. **Write up**: This should contain the detailed procedure followed in choosing the final model. The write up should start with the reason for choosing the base model, then highlight the reasons and metrics taken into consideration to modify and experiment to arrive at the final model."
   ]
  },
  {
   "cell_type": "code",
   "execution_count": 2,
   "metadata": {
    "execution": {
     "iopub.execute_input": "2021-12-24T08:49:03.843530Z",
     "iopub.status.busy": "2021-12-24T08:49:03.842979Z",
     "iopub.status.idle": "2021-12-24T08:49:07.944799Z",
     "shell.execute_reply": "2021-12-24T08:49:07.944080Z",
     "shell.execute_reply.started": "2021-12-24T08:49:03.843489Z"
    }
   },
   "outputs": [],
   "source": [
    "import tensorflow as tf\n",
    "import warnings\n",
    "warnings.filterwarnings('ignore')\n",
    "\n"
   ]
  },
  {
   "cell_type": "code",
   "execution_count": 3,
   "metadata": {
    "execution": {
     "iopub.execute_input": "2021-12-24T08:49:07.946765Z",
     "iopub.status.busy": "2021-12-24T08:49:07.946525Z",
     "iopub.status.idle": "2021-12-24T08:49:07.953874Z",
     "shell.execute_reply": "2021-12-24T08:49:07.953058Z",
     "shell.execute_reply.started": "2021-12-24T08:49:07.946732Z"
    }
   },
   "outputs": [
    {
     "data": {
      "text/plain": [
       "True"
      ]
     },
     "execution_count": 3,
     "metadata": {},
     "output_type": "execute_result"
    }
   ],
   "source": [
    "tf.test.is_built_with_cuda()"
   ]
  },
  {
   "cell_type": "code",
   "execution_count": 4,
   "metadata": {
    "execution": {
     "iopub.execute_input": "2021-12-24T08:49:07.955891Z",
     "iopub.status.busy": "2021-12-24T08:49:07.955427Z",
     "iopub.status.idle": "2021-12-24T08:49:09.856939Z",
     "shell.execute_reply": "2021-12-24T08:49:09.853978Z",
     "shell.execute_reply.started": "2021-12-24T08:49:07.955849Z"
    }
   },
   "outputs": [
    {
     "name": "stdout",
     "output_type": "stream",
     "text": [
      "[name: \"/device:CPU:0\"\n",
      "device_type: \"CPU\"\n",
      "memory_limit: 268435456\n",
      "locality {\n",
      "}\n",
      "incarnation: 1697822630177977951\n",
      ", name: \"/device:GPU:0\"\n",
      "device_type: \"GPU\"\n",
      "memory_limit: 16152002560\n",
      "locality {\n",
      "  bus_id: 1\n",
      "  links {\n",
      "  }\n",
      "}\n",
      "incarnation: 14458140384372727755\n",
      "physical_device_desc: \"device: 0, name: Tesla P100-PCIE-16GB, pci bus id: 0000:00:04.0, compute capability: 6.0\"\n",
      "]\n"
     ]
    },
    {
     "name": "stderr",
     "output_type": "stream",
     "text": [
      "2021-12-24 08:49:07.963116: I tensorflow/core/platform/cpu_feature_guard.cc:142] This TensorFlow binary is optimized with oneAPI Deep Neural Network Library (oneDNN) to use the following CPU instructions in performance-critical operations:  AVX2 AVX512F FMA\n",
      "To enable them in other operations, rebuild TensorFlow with the appropriate compiler flags.\n",
      "2021-12-24 08:49:08.015607: I tensorflow/stream_executor/cuda/cuda_gpu_executor.cc:937] successful NUMA node read from SysFS had negative value (-1), but there must be at least one NUMA node, so returning NUMA node zero\n",
      "2021-12-24 08:49:08.102605: I tensorflow/stream_executor/cuda/cuda_gpu_executor.cc:937] successful NUMA node read from SysFS had negative value (-1), but there must be at least one NUMA node, so returning NUMA node zero\n",
      "2021-12-24 08:49:08.103324: I tensorflow/stream_executor/cuda/cuda_gpu_executor.cc:937] successful NUMA node read from SysFS had negative value (-1), but there must be at least one NUMA node, so returning NUMA node zero\n",
      "2021-12-24 08:49:09.843202: I tensorflow/stream_executor/cuda/cuda_gpu_executor.cc:937] successful NUMA node read from SysFS had negative value (-1), but there must be at least one NUMA node, so returning NUMA node zero\n",
      "2021-12-24 08:49:09.843986: I tensorflow/stream_executor/cuda/cuda_gpu_executor.cc:937] successful NUMA node read from SysFS had negative value (-1), but there must be at least one NUMA node, so returning NUMA node zero\n",
      "2021-12-24 08:49:09.844658: I tensorflow/stream_executor/cuda/cuda_gpu_executor.cc:937] successful NUMA node read from SysFS had negative value (-1), but there must be at least one NUMA node, so returning NUMA node zero\n",
      "2021-12-24 08:49:09.845308: I tensorflow/core/common_runtime/gpu/gpu_device.cc:1510] Created device /device:GPU:0 with 15403 MB memory:  -> device: 0, name: Tesla P100-PCIE-16GB, pci bus id: 0000:00:04.0, compute capability: 6.0\n"
     ]
    }
   ],
   "source": [
    "from tensorflow.python.client import device_lib\n",
    "print(device_lib.list_local_devices())"
   ]
  },
  {
   "cell_type": "markdown",
   "metadata": {},
   "source": [
    "### *Importing the necessary libraries*"
   ]
  },
  {
   "cell_type": "code",
   "execution_count": 5,
   "metadata": {
    "execution": {
     "iopub.execute_input": "2021-12-24T08:49:09.859283Z",
     "iopub.status.busy": "2021-12-24T08:49:09.858893Z",
     "iopub.status.idle": "2021-12-24T08:49:10.941663Z",
     "shell.execute_reply": "2021-12-24T08:49:10.940914Z",
     "shell.execute_reply.started": "2021-12-24T08:49:09.859249Z"
    }
   },
   "outputs": [],
   "source": [
    "import numpy as np\n",
    "import os\n",
    "from skimage.io import imread\n",
    "import datetime\n",
    "import os\n",
    "import warnings\n",
    "warnings.filterwarnings(\"ignore\")\n",
    "import abc\n",
    "from sys import getsizeof\n",
    "\n",
    "np.random.seed(30)\n",
    "import random as rn\n",
    "rn.seed(30)\n",
    "import cv2\n",
    "import matplotlib.pyplot as plt\n",
    "\n",
    "# importing some other libraries which will be needed for model building.\n",
    "\n",
    "from keras.models import Sequential, Model\n",
    "from keras.layers import Dense, GRU, Flatten, TimeDistributed, Flatten, BatchNormalization, Activation\n",
    "from keras.layers.convolutional import Conv3D, MaxPooling3D, Conv2D, MaxPooling2D\n",
    "from keras.layers.recurrent import LSTM\n",
    "from keras.callbacks import ModelCheckpoint, ReduceLROnPlateau, EarlyStopping\n",
    "from keras import optimizers\n",
    "from keras.layers import Dropout"
   ]
  },
  {
   "cell_type": "markdown",
   "metadata": {},
   "source": [
    "In this block, you read the folder names for training and validation. You also set the `batch_size` here. Note that you set the batch size in such a way that you are able to use the GPU in full capacity. You keep increasing the batch size until the machine throws an error."
   ]
  },
  {
   "cell_type": "code",
   "execution_count": 6,
   "metadata": {
    "execution": {
     "iopub.execute_input": "2021-12-24T08:49:10.943945Z",
     "iopub.status.busy": "2021-12-24T08:49:10.943735Z",
     "iopub.status.idle": "2021-12-24T08:49:10.948552Z",
     "shell.execute_reply": "2021-12-24T08:49:10.947894Z",
     "shell.execute_reply.started": "2021-12-24T08:49:10.943904Z"
    }
   },
   "outputs": [],
   "source": [
    "project_folder='../input/gesture-recognition/Project_data'"
   ]
  },
  {
   "cell_type": "markdown",
   "metadata": {},
   "source": [
    "## Generator\n",
    "*This is one of the most important part of the code. The overall structure of the generator has been given. In the generator, you are going to preprocess the images as you have images of 2 different dimensions as well as create a batch of video frames. You have to experiment with `img_idx`, `y`,`z` and normalization such that you get high accuracy.*"
   ]
  },
  {
   "cell_type": "code",
   "execution_count": 7,
   "metadata": {
    "execution": {
     "iopub.execute_input": "2021-12-24T08:49:10.950241Z",
     "iopub.status.busy": "2021-12-24T08:49:10.949844Z",
     "iopub.status.idle": "2021-12-24T08:49:10.982243Z",
     "shell.execute_reply": "2021-12-24T08:49:10.981620Z",
     "shell.execute_reply.started": "2021-12-24T08:49:10.950206Z"
    }
   },
   "outputs": [],
   "source": [
    "class ModelBuilder(metaclass= abc.ABCMeta):\n",
    "    # initialisng the path where project data resides\n",
    "    def initialize_path(self,project_folder):\n",
    "        self.train_doc = np.random.permutation(open(project_folder + '/' + 'train.csv').readlines())\n",
    "        self.val_doc = np.random.permutation(open(project_folder + '/' + 'val.csv').readlines())\n",
    "        self.train_path = project_folder + '/' + 'train'\n",
    "        self.val_path =  project_folder + '/' + 'val'\n",
    "        self.num_train_sequences = len(self.train_doc)\n",
    "        self.num_val_sequences = len(self.val_doc)\n",
    "    # initialising the image properties    \n",
    "    def initialize_image_properties(self,image_height=100,image_width=100):\n",
    "        self.image_height=image_height\n",
    "        self.image_width=image_width\n",
    "        self.channels=3\n",
    "        self.num_classes=5\n",
    "        self.total_frames=30\n",
    "    # initialising the batch size, frames to sample and the no. of epochs\n",
    "    def initialize_hyperparams(self,frames_to_sample=30,batch_size=20,num_epochs=20):\n",
    "        self.frames_to_sample=frames_to_sample\n",
    "        self.batch_size=batch_size\n",
    "        self.num_epochs=num_epochs\n",
    "        \n",
    "    # MOST IMPORTANT PART HERE - The generator function        \n",
    "    def generator(self,source_path, folder_list, augment=False):\n",
    "        img_idx = np.round(np.linspace(0,self.total_frames-1,self.frames_to_sample)).astype(int)\n",
    "        batch_size=self.batch_size\n",
    "        while True:\n",
    "            t = np.random.permutation(folder_list)\n",
    "            num_batches = len(t)//batch_size\n",
    "        \n",
    "            for batch in range(num_batches): \n",
    "                batch_data, batch_labels= self.one_batch_data(source_path,t,batch,batch_size,img_idx,augment)\n",
    "                yield batch_data, batch_labels \n",
    "\n",
    "            remaining_seq=len(t)%batch_size\n",
    "        \n",
    "            if (remaining_seq != 0):\n",
    "                batch_data, batch_labels= self.one_batch_data(source_path,t,num_batches,batch_size,img_idx,augment,remaining_seq)\n",
    "                yield batch_data, batch_labels \n",
    "    \n",
    "    \n",
    "    def one_batch_data(self,source_path,t,batch,batch_size,img_idx,augment,remaining_seq=0):\n",
    "    \n",
    "        seq_len = remaining_seq if remaining_seq else batch_size\n",
    "    \n",
    "        batch_data = np.zeros((seq_len,len(img_idx),self.image_height,self.image_width,self.channels)) \n",
    "        batch_labels = np.zeros((seq_len,self.num_classes)) \n",
    "    \n",
    "        if (augment): batch_data_aug = np.zeros((seq_len,len(img_idx),self.image_height,self.image_width,self.channels))\n",
    "\n",
    "        \n",
    "        for folder in range(seq_len): \n",
    "            imgs = os.listdir(source_path+'/'+ t[folder + (batch*batch_size)].split(';')[0]) \n",
    "            for idx,item in enumerate(img_idx):\n",
    "                #performing image reading and resizing\n",
    "                image = imread(source_path+'/'+ t[folder + (batch*batch_size)].strip().split(';')[0]+'/'+imgs[item]).astype(np.float32)\n",
    "                image_resized=cv2.resize(image,(self.image_height,self.image_width))\n",
    "            \n",
    "                #normalizing the images\n",
    "                batch_data[folder,idx,:,:,0] = (image_resized[:,:,0])/255\n",
    "                batch_data[folder,idx,:,:,1] = (image_resized[:,:,1])/255\n",
    "                batch_data[folder,idx,:,:,2] = (image_resized[:,:,2])/255\n",
    "            \n",
    "                if (augment):\n",
    "                    shifted = cv2.warpAffine(image, \n",
    "                                             np.float32([[1, 0, np.random.randint(-30,30)],[0, 1, np.random.randint(-30,30)]]), \n",
    "                                            (image.shape[1], image.shape[0]))\n",
    "                    \n",
    "                    gray = cv2.cvtColor(shifted,cv2.COLOR_BGR2GRAY)\n",
    "\n",
    "                    x0, y0 = np.argwhere(gray > 0).min(axis=0)\n",
    "                    x1, y1 = np.argwhere(gray > 0).max(axis=0) \n",
    "                    # cropping the images to have the targeted gestures and remove the noise from the images.\n",
    "                \n",
    "                    \n",
    "                    image_resized=cv2.resize((self.image_height,self.image_width))\n",
    "                    \n",
    "                    #shifted = cv2.warpAffine(image_resized, \n",
    "                    #                        np.float32([[1, 0, np.random.randint(-3,3)],[0, 1, np.random.randint(-3,3)]]), \n",
    "                    #                        (image_resized.shape[1], image_resized.shape[0]))\n",
    "            \n",
    "                    batch_data_aug[folder,idx,:,:,0] = (image_resized[:,:,0])/255\n",
    "                    batch_data_aug[folder,idx,:,:,1] = (image_resized[:,:,1])/255\n",
    "                    batch_data_aug[folder,idx,:,:,2] = (image_resized[:,:,2])/255\n",
    "                \n",
    "            \n",
    "            batch_labels[folder, int(t[folder + (batch*batch_size)].strip().split(';')[2])] = 1\n",
    "            \n",
    "    \n",
    "        if (augment):\n",
    "            batch_data=np.concatenate([batch_data,batch_data_aug])\n",
    "            batch_labels=np.concatenate([batch_labels,batch_labels])\n",
    "\n",
    "        \n",
    "        return(batch_data,batch_labels)\n",
    "    \n",
    "    \n",
    "    def train_model(self, model, augment_data=False):\n",
    "        train_generator = self.generator(self.train_path, self.train_doc,augment=augment_data)\n",
    "        val_generator = self.generator(self.val_path, self.val_doc)\n",
    "\n",
    "        model_name = 'model_init' + '_' + str(datetime.datetime.now()).replace(' ','').replace(':','_') + '/'\n",
    "    \n",
    "        if not os.path.exists(model_name):\n",
    "            os.mkdir(model_name)\n",
    "        \n",
    "        filepath = model_name + 'model-{epoch:05d}-{loss:.5f}-{categorical_accuracy:.5f}-{val_loss:.5f}-{val_categorical_accuracy:.5f}.h5'\n",
    "\n",
    "        checkpoint = ModelCheckpoint(filepath, monitor='val_loss', verbose=1, save_best_only=True, save_weights_only=False, mode='auto', period=1)\n",
    "        LR = ReduceLROnPlateau(monitor='val_loss', factor=0.2, verbose=1, patience=4)\n",
    "        \n",
    "        earlystop = EarlyStopping( monitor=\"val_loss\", min_delta=0,patience=10,verbose=1)\n",
    "        callbacks_list = [checkpoint, LR, earlystop]\n",
    "\n",
    "        if (self.num_train_sequences%self.batch_size) == 0:\n",
    "            steps_per_epoch = int(self.num_train_sequences/self.batch_size)\n",
    "        else:\n",
    "            steps_per_epoch = (self.num_train_sequences//self.batch_size) + 1\n",
    "\n",
    "        if (self.num_val_sequences%self.batch_size) == 0:\n",
    "            validation_steps = int(self.num_val_sequences/self.batch_size)\n",
    "        else:\n",
    "            validation_steps = (self.num_val_sequences//self.batch_size) + 1\n",
    "    \n",
    "        history=model.fit_generator(train_generator, steps_per_epoch=steps_per_epoch, epochs=self.num_epochs, verbose=1, \n",
    "                            callbacks=callbacks_list, validation_data=val_generator, \n",
    "                            validation_steps=validation_steps, class_weight=None, workers=1, initial_epoch=0)\n",
    "        return history\n",
    "\n",
    "        \n",
    "    @abc.abstractmethod\n",
    "    def define_model(self):\n",
    "        pass"
   ]
  },
  {
   "cell_type": "code",
   "execution_count": 8,
   "metadata": {
    "execution": {
     "iopub.execute_input": "2021-12-24T08:49:10.983683Z",
     "iopub.status.busy": "2021-12-24T08:49:10.983419Z",
     "iopub.status.idle": "2021-12-24T08:49:10.994709Z",
     "shell.execute_reply": "2021-12-24T08:49:10.994059Z",
     "shell.execute_reply.started": "2021-12-24T08:49:10.983647Z"
    }
   },
   "outputs": [],
   "source": [
    "# function to plot the training/validation accuracies/losses.\n",
    "\n",
    "def plot(history):\n",
    "    fig, axes = plt.subplots(nrows=1, ncols=2, figsize=(15,4))\n",
    "    axes[0].plot(history.history['loss'])   \n",
    "    axes[0].plot(history.history['val_loss'])\n",
    "    axes[0].legend(['loss','val_loss'])\n",
    "    axes[1].plot(history.history['categorical_accuracy'])   \n",
    "    axes[1].plot(history.history['val_categorical_accuracy'])\n",
    "    axes[1].legend(['categorical_accuracy','val_categorical_accuracy'])"
   ]
  },
  {
   "cell_type": "markdown",
   "metadata": {},
   "source": [
    "## Model\n",
    "Here you make the model using different functionalities that Keras provides. Remember to use `Conv3D` and `MaxPooling3D` and not `Conv2D` and `Maxpooling2D` for a 3D convolution model. You would want to use `TimeDistributed` while building a Conv2D + RNN model. Also remember that the last layer is the softmax. Design the network in such a way that the model is able to give good accuracy on the least number of parameters so that it can fit in the memory of the webcam."
   ]
  },
  {
   "cell_type": "markdown",
   "metadata": {},
   "source": [
    "### Sample Model"
   ]
  },
  {
   "cell_type": "code",
   "execution_count": 9,
   "metadata": {
    "execution": {
     "iopub.execute_input": "2021-12-24T08:49:10.996231Z",
     "iopub.status.busy": "2021-12-24T08:49:10.995845Z",
     "iopub.status.idle": "2021-12-24T08:49:11.011001Z",
     "shell.execute_reply": "2021-12-24T08:49:11.010232Z",
     "shell.execute_reply.started": "2021-12-24T08:49:10.996197Z"
    }
   },
   "outputs": [],
   "source": [
    "class ModelConv3D1(ModelBuilder):\n",
    "    \n",
    "    def define_model(self):\n",
    "\n",
    "        model = Sequential()\n",
    "        model.add(Conv3D(16, (3, 3, 3), padding='same',\n",
    "                 input_shape=(self.frames_to_sample,self.image_height,self.image_width,self.channels)))\n",
    "        model.add(Activation('relu'))\n",
    "        model.add(BatchNormalization())\n",
    "        model.add(MaxPooling3D(pool_size=(2, 2, 2)))\n",
    "\n",
    "        model.add(Conv3D(32, (2, 2, 2), padding='same'))\n",
    "        model.add(Activation('relu'))\n",
    "        model.add(BatchNormalization())\n",
    "        model.add(MaxPooling3D(pool_size=(2, 2, 2)))\n",
    "\n",
    "        model.add(Conv3D(64, (2, 2, 2), padding='same'))\n",
    "        model.add(Activation('relu'))\n",
    "        model.add(BatchNormalization())\n",
    "        model.add(MaxPooling3D(pool_size=(2, 2, 2)))\n",
    "\n",
    "        model.add(Conv3D(128, (2, 2, 2), padding='same'))\n",
    "        model.add(Activation('relu'))\n",
    "        model.add(BatchNormalization())\n",
    "        model.add(MaxPooling3D(pool_size=(2, 2, 2)))\n",
    "\n",
    "        model.add(Flatten())\n",
    "        model.add(Dense(128,activation='relu'))\n",
    "        model.add(BatchNormalization())\n",
    "        model.add(Dropout(0.5))\n",
    "\n",
    "        model.add(Dense(64,activation='relu'))\n",
    "        model.add(BatchNormalization())\n",
    "        model.add(Dropout(0.25))\n",
    "\n",
    "\n",
    "        model.add(Dense(self.num_classes,activation='softmax'))\n",
    "\n",
    "        optimiser = tf.optimizers.Adam()\n",
    "        #optimiser = 'sgd'\n",
    "        model.compile(optimizer=optimiser, loss='categorical_crossentropy', metrics=['categorical_accuracy'])\n",
    "        return model"
   ]
  },
  {
   "cell_type": "code",
   "execution_count": 10,
   "metadata": {
    "execution": {
     "iopub.execute_input": "2021-12-24T08:49:11.012510Z",
     "iopub.status.busy": "2021-12-24T08:49:11.012208Z",
     "iopub.status.idle": "2021-12-24T08:49:11.831700Z",
     "shell.execute_reply": "2021-12-24T08:49:11.830988Z",
     "shell.execute_reply.started": "2021-12-24T08:49:11.012476Z"
    }
   },
   "outputs": [
    {
     "name": "stderr",
     "output_type": "stream",
     "text": [
      "2021-12-24 08:49:11.055663: I tensorflow/stream_executor/cuda/cuda_gpu_executor.cc:937] successful NUMA node read from SysFS had negative value (-1), but there must be at least one NUMA node, so returning NUMA node zero\n",
      "2021-12-24 08:49:11.056469: I tensorflow/stream_executor/cuda/cuda_gpu_executor.cc:937] successful NUMA node read from SysFS had negative value (-1), but there must be at least one NUMA node, so returning NUMA node zero\n",
      "2021-12-24 08:49:11.057084: I tensorflow/stream_executor/cuda/cuda_gpu_executor.cc:937] successful NUMA node read from SysFS had negative value (-1), but there must be at least one NUMA node, so returning NUMA node zero\n",
      "2021-12-24 08:49:11.057959: I tensorflow/stream_executor/cuda/cuda_gpu_executor.cc:937] successful NUMA node read from SysFS had negative value (-1), but there must be at least one NUMA node, so returning NUMA node zero\n",
      "2021-12-24 08:49:11.058607: I tensorflow/stream_executor/cuda/cuda_gpu_executor.cc:937] successful NUMA node read from SysFS had negative value (-1), but there must be at least one NUMA node, so returning NUMA node zero\n",
      "2021-12-24 08:49:11.059222: I tensorflow/stream_executor/cuda/cuda_gpu_executor.cc:937] successful NUMA node read from SysFS had negative value (-1), but there must be at least one NUMA node, so returning NUMA node zero\n",
      "2021-12-24 08:49:11.059873: I tensorflow/stream_executor/cuda/cuda_gpu_executor.cc:937] successful NUMA node read from SysFS had negative value (-1), but there must be at least one NUMA node, so returning NUMA node zero\n",
      "2021-12-24 08:49:11.060503: I tensorflow/stream_executor/cuda/cuda_gpu_executor.cc:937] successful NUMA node read from SysFS had negative value (-1), but there must be at least one NUMA node, so returning NUMA node zero\n",
      "2021-12-24 08:49:11.061117: I tensorflow/core/common_runtime/gpu/gpu_device.cc:1510] Created device /job:localhost/replica:0/task:0/device:GPU:0 with 15403 MB memory:  -> device: 0, name: Tesla P100-PCIE-16GB, pci bus id: 0000:00:04.0, compute capability: 6.0\n"
     ]
    },
    {
     "name": "stdout",
     "output_type": "stream",
     "text": [
      "Model: \"sequential\"\n",
      "_________________________________________________________________\n",
      "Layer (type)                 Output Shape              Param #   \n",
      "=================================================================\n",
      "conv3d (Conv3D)              (None, 30, 160, 160, 16)  1312      \n",
      "_________________________________________________________________\n",
      "activation (Activation)      (None, 30, 160, 160, 16)  0         \n",
      "_________________________________________________________________\n",
      "batch_normalization (BatchNo (None, 30, 160, 160, 16)  64        \n",
      "_________________________________________________________________\n",
      "max_pooling3d (MaxPooling3D) (None, 15, 80, 80, 16)    0         \n",
      "_________________________________________________________________\n",
      "conv3d_1 (Conv3D)            (None, 15, 80, 80, 32)    4128      \n",
      "_________________________________________________________________\n",
      "activation_1 (Activation)    (None, 15, 80, 80, 32)    0         \n",
      "_________________________________________________________________\n",
      "batch_normalization_1 (Batch (None, 15, 80, 80, 32)    128       \n",
      "_________________________________________________________________\n",
      "max_pooling3d_1 (MaxPooling3 (None, 7, 40, 40, 32)     0         \n",
      "_________________________________________________________________\n",
      "conv3d_2 (Conv3D)            (None, 7, 40, 40, 64)     16448     \n",
      "_________________________________________________________________\n",
      "activation_2 (Activation)    (None, 7, 40, 40, 64)     0         \n",
      "_________________________________________________________________\n",
      "batch_normalization_2 (Batch (None, 7, 40, 40, 64)     256       \n",
      "_________________________________________________________________\n",
      "max_pooling3d_2 (MaxPooling3 (None, 3, 20, 20, 64)     0         \n",
      "_________________________________________________________________\n",
      "conv3d_3 (Conv3D)            (None, 3, 20, 20, 128)    65664     \n",
      "_________________________________________________________________\n",
      "activation_3 (Activation)    (None, 3, 20, 20, 128)    0         \n",
      "_________________________________________________________________\n",
      "batch_normalization_3 (Batch (None, 3, 20, 20, 128)    512       \n",
      "_________________________________________________________________\n",
      "max_pooling3d_3 (MaxPooling3 (None, 1, 10, 10, 128)    0         \n",
      "_________________________________________________________________\n",
      "flatten (Flatten)            (None, 12800)             0         \n",
      "_________________________________________________________________\n",
      "dense (Dense)                (None, 128)               1638528   \n",
      "_________________________________________________________________\n",
      "batch_normalization_4 (Batch (None, 128)               512       \n",
      "_________________________________________________________________\n",
      "dropout (Dropout)            (None, 128)               0         \n",
      "_________________________________________________________________\n",
      "dense_1 (Dense)              (None, 64)                8256      \n",
      "_________________________________________________________________\n",
      "batch_normalization_5 (Batch (None, 64)                256       \n",
      "_________________________________________________________________\n",
      "dropout_1 (Dropout)          (None, 64)                0         \n",
      "_________________________________________________________________\n",
      "dense_2 (Dense)              (None, 5)                 325       \n",
      "=================================================================\n",
      "Total params: 1,736,389\n",
      "Trainable params: 1,735,525\n",
      "Non-trainable params: 864\n",
      "_________________________________________________________________\n"
     ]
    }
   ],
   "source": [
    "conv_3d1=ModelConv3D1()\n",
    "conv_3d1.initialize_path(project_folder)\n",
    "conv_3d1.initialize_image_properties(image_height=160,image_width=160)\n",
    "conv_3d1.initialize_hyperparams(frames_to_sample=30,batch_size=10,num_epochs=1)\n",
    "conv_3d1_model=conv_3d1.define_model()\n",
    "conv_3d1_model.summary()"
   ]
  },
  {
   "cell_type": "markdown",
   "metadata": {},
   "source": [
    "## Model 1\n",
    "### Base Model - Batch Size = 40 and No. of Epochs = 15"
   ]
  },
  {
   "cell_type": "code",
   "execution_count": 11,
   "metadata": {
    "execution": {
     "iopub.execute_input": "2021-12-24T08:49:11.833357Z",
     "iopub.status.busy": "2021-12-24T08:49:11.833046Z",
     "iopub.status.idle": "2021-12-24T08:52:36.791412Z",
     "shell.execute_reply": "2021-12-24T08:52:36.790647Z",
     "shell.execute_reply.started": "2021-12-24T08:49:11.833319Z"
    }
   },
   "outputs": [
    {
     "name": "stdout",
     "output_type": "stream",
     "text": [
      "Total Params: 1736389\n"
     ]
    },
    {
     "name": "stderr",
     "output_type": "stream",
     "text": [
      "2021-12-24 08:49:13.695782: I tensorflow/compiler/mlir/mlir_graph_optimization_pass.cc:185] None of the MLIR Optimization Passes are enabled (registered 2)\n",
      "2021-12-24 08:49:15.831053: I tensorflow/stream_executor/cuda/cuda_dnn.cc:369] Loaded cuDNN version 8005\n"
     ]
    },
    {
     "name": "stdout",
     "output_type": "stream",
     "text": [
      "67/67 [==============================] - 157s 2s/step - loss: 1.6369 - categorical_accuracy: 0.3967 - val_loss: 3.5841 - val_categorical_accuracy: 0.2200\n",
      "\n",
      "Epoch 00001: val_loss improved from inf to 3.58410, saving model to model_init_2021-12-2408_49_11.836054/model-00001-1.63689-0.39668-3.58410-0.22000.h5\n"
     ]
    }
   ],
   "source": [
    "print(\"Total Params:\", conv_3d1_model.count_params())\n",
    "history_model1 = conv_3d1.train_model(conv_3d1_model)"
   ]
  },
  {
   "cell_type": "markdown",
   "metadata": {},
   "source": [
    "> **It seems Model has not learnt well and hence it's having poor training accuracy of 39% where as validation accuracy is of 22%**"
   ]
  },
  {
   "cell_type": "code",
   "execution_count": 12,
   "metadata": {
    "execution": {
     "iopub.execute_input": "2021-12-24T08:52:36.794095Z",
     "iopub.status.busy": "2021-12-24T08:52:36.792715Z",
     "iopub.status.idle": "2021-12-24T08:52:36.799659Z",
     "shell.execute_reply": "2021-12-24T08:52:36.799000Z",
     "shell.execute_reply.started": "2021-12-24T08:52:36.794056Z"
    }
   },
   "outputs": [
    {
     "name": "stdout",
     "output_type": "stream",
     "text": [
      "Memory util is 3.662109524011612 Gigs\n"
     ]
    }
   ],
   "source": [
    "print(\"Memory util is {} Gigs\". format(getsizeof(np.zeros((40,16,30,160,160)))/(1024*1024*1024)))"
   ]
  },
  {
   "cell_type": "markdown",
   "metadata": {},
   "source": [
    "## Model 2  \n",
    "### Increasing Number of Epochs and decreasing Batch Size.\n",
    "### - Batch Size = 20, No. of Epochs = 25"
   ]
  },
  {
   "cell_type": "code",
   "execution_count": 13,
   "metadata": {
    "execution": {
     "iopub.execute_input": "2021-12-24T08:52:36.801543Z",
     "iopub.status.busy": "2021-12-24T08:52:36.801064Z",
     "iopub.status.idle": "2021-12-24T08:52:36.962854Z",
     "shell.execute_reply": "2021-12-24T08:52:36.962191Z",
     "shell.execute_reply.started": "2021-12-24T08:52:36.801507Z"
    }
   },
   "outputs": [
    {
     "name": "stdout",
     "output_type": "stream",
     "text": [
      "Model: \"sequential_1\"\n",
      "_________________________________________________________________\n",
      "Layer (type)                 Output Shape              Param #   \n",
      "=================================================================\n",
      "conv3d_4 (Conv3D)            (None, 20, 160, 160, 16)  1312      \n",
      "_________________________________________________________________\n",
      "activation_4 (Activation)    (None, 20, 160, 160, 16)  0         \n",
      "_________________________________________________________________\n",
      "batch_normalization_6 (Batch (None, 20, 160, 160, 16)  64        \n",
      "_________________________________________________________________\n",
      "max_pooling3d_4 (MaxPooling3 (None, 10, 80, 80, 16)    0         \n",
      "_________________________________________________________________\n",
      "conv3d_5 (Conv3D)            (None, 10, 80, 80, 32)    4128      \n",
      "_________________________________________________________________\n",
      "activation_5 (Activation)    (None, 10, 80, 80, 32)    0         \n",
      "_________________________________________________________________\n",
      "batch_normalization_7 (Batch (None, 10, 80, 80, 32)    128       \n",
      "_________________________________________________________________\n",
      "max_pooling3d_5 (MaxPooling3 (None, 5, 40, 40, 32)     0         \n",
      "_________________________________________________________________\n",
      "conv3d_6 (Conv3D)            (None, 5, 40, 40, 64)     16448     \n",
      "_________________________________________________________________\n",
      "activation_6 (Activation)    (None, 5, 40, 40, 64)     0         \n",
      "_________________________________________________________________\n",
      "batch_normalization_8 (Batch (None, 5, 40, 40, 64)     256       \n",
      "_________________________________________________________________\n",
      "max_pooling3d_6 (MaxPooling3 (None, 2, 20, 20, 64)     0         \n",
      "_________________________________________________________________\n",
      "conv3d_7 (Conv3D)            (None, 2, 20, 20, 128)    65664     \n",
      "_________________________________________________________________\n",
      "activation_7 (Activation)    (None, 2, 20, 20, 128)    0         \n",
      "_________________________________________________________________\n",
      "batch_normalization_9 (Batch (None, 2, 20, 20, 128)    512       \n",
      "_________________________________________________________________\n",
      "max_pooling3d_7 (MaxPooling3 (None, 1, 10, 10, 128)    0         \n",
      "_________________________________________________________________\n",
      "flatten_1 (Flatten)          (None, 12800)             0         \n",
      "_________________________________________________________________\n",
      "dense_3 (Dense)              (None, 128)               1638528   \n",
      "_________________________________________________________________\n",
      "batch_normalization_10 (Batc (None, 128)               512       \n",
      "_________________________________________________________________\n",
      "dropout_2 (Dropout)          (None, 128)               0         \n",
      "_________________________________________________________________\n",
      "dense_4 (Dense)              (None, 64)                8256      \n",
      "_________________________________________________________________\n",
      "batch_normalization_11 (Batc (None, 64)                256       \n",
      "_________________________________________________________________\n",
      "dropout_3 (Dropout)          (None, 64)                0         \n",
      "_________________________________________________________________\n",
      "dense_5 (Dense)              (None, 5)                 325       \n",
      "=================================================================\n",
      "Total params: 1,736,389\n",
      "Trainable params: 1,735,525\n",
      "Non-trainable params: 864\n",
      "_________________________________________________________________\n"
     ]
    }
   ],
   "source": [
    "conv_3d2=ModelConv3D1()\n",
    "conv_3d2.initialize_path(project_folder)\n",
    "conv_3d2.initialize_image_properties(image_height=160,image_width=160)\n",
    "conv_3d2.initialize_hyperparams(frames_to_sample=20,batch_size=20,num_epochs=25)\n",
    "conv_3d2_model=conv_3d2.define_model()\n",
    "conv_3d2_model.summary()"
   ]
  },
  {
   "cell_type": "code",
   "execution_count": 14,
   "metadata": {
    "execution": {
     "iopub.execute_input": "2021-12-24T08:52:36.964183Z",
     "iopub.status.busy": "2021-12-24T08:52:36.963944Z",
     "iopub.status.idle": "2021-12-24T09:06:01.423715Z",
     "shell.execute_reply": "2021-12-24T09:06:01.422685Z",
     "shell.execute_reply.started": "2021-12-24T08:52:36.964149Z"
    }
   },
   "outputs": [
    {
     "name": "stdout",
     "output_type": "stream",
     "text": [
      "Total Params: 1736389\n",
      "Epoch 1/25\n",
      "34/34 [==============================] - 80s 2s/step - loss: 1.6527 - categorical_accuracy: 0.4042 - val_loss: 2.6492 - val_categorical_accuracy: 0.2000\n",
      "\n",
      "Epoch 00001: val_loss improved from inf to 2.64915, saving model to model_init_2021-12-2408_52_36.966656/model-00001-1.65268-0.40422-2.64915-0.20000.h5\n",
      "Epoch 2/25\n",
      "34/34 [==============================] - 72s 2s/step - loss: 1.0624 - categorical_accuracy: 0.5897 - val_loss: 4.6894 - val_categorical_accuracy: 0.1900\n",
      "\n",
      "Epoch 00002: val_loss did not improve from 2.64915\n",
      "Epoch 3/25\n",
      "34/34 [==============================] - 74s 2s/step - loss: 0.8241 - categorical_accuracy: 0.6697 - val_loss: 6.4933 - val_categorical_accuracy: 0.2200\n",
      "\n",
      "Epoch 00003: val_loss did not improve from 2.64915\n",
      "Epoch 4/25\n",
      "34/34 [==============================] - 71s 2s/step - loss: 0.6171 - categorical_accuracy: 0.7692 - val_loss: 7.7680 - val_categorical_accuracy: 0.2100\n",
      "\n",
      "Epoch 00004: val_loss did not improve from 2.64915\n",
      "Epoch 5/25\n",
      "34/34 [==============================] - 71s 2s/step - loss: 0.5517 - categorical_accuracy: 0.8069 - val_loss: 6.1936 - val_categorical_accuracy: 0.2300\n",
      "\n",
      "Epoch 00005: val_loss did not improve from 2.64915\n",
      "\n",
      "Epoch 00005: ReduceLROnPlateau reducing learning rate to 0.00020000000949949026.\n",
      "Epoch 6/25\n",
      "34/34 [==============================] - 72s 2s/step - loss: 0.4983 - categorical_accuracy: 0.8084 - val_loss: 5.3179 - val_categorical_accuracy: 0.2100\n",
      "\n",
      "Epoch 00006: val_loss did not improve from 2.64915\n",
      "Epoch 7/25\n",
      "34/34 [==============================] - 73s 2s/step - loss: 0.4168 - categorical_accuracy: 0.8567 - val_loss: 4.4900 - val_categorical_accuracy: 0.2200\n",
      "\n",
      "Epoch 00007: val_loss did not improve from 2.64915\n",
      "Epoch 8/25\n",
      "34/34 [==============================] - 72s 2s/step - loss: 0.3778 - categorical_accuracy: 0.8703 - val_loss: 4.2189 - val_categorical_accuracy: 0.1700\n",
      "\n",
      "Epoch 00008: val_loss did not improve from 2.64915\n",
      "Epoch 9/25\n",
      "34/34 [==============================] - 75s 2s/step - loss: 0.3134 - categorical_accuracy: 0.9035 - val_loss: 3.8423 - val_categorical_accuracy: 0.2800\n",
      "\n",
      "Epoch 00009: val_loss did not improve from 2.64915\n",
      "\n",
      "Epoch 00009: ReduceLROnPlateau reducing learning rate to 4.0000001899898055e-05.\n",
      "Epoch 10/25\n",
      "34/34 [==============================] - 71s 2s/step - loss: 0.2833 - categorical_accuracy: 0.9020 - val_loss: 3.2014 - val_categorical_accuracy: 0.3700\n",
      "\n",
      "Epoch 00010: val_loss did not improve from 2.64915\n",
      "Epoch 11/25\n",
      "34/34 [==============================] - 73s 2s/step - loss: 0.2661 - categorical_accuracy: 0.9170 - val_loss: 2.8951 - val_categorical_accuracy: 0.3000\n",
      "\n",
      "Epoch 00011: val_loss did not improve from 2.64915\n",
      "Epoch 00011: early stopping\n"
     ]
    }
   ],
   "source": [
    "print(\"Total Params:\", conv_3d2_model.count_params())\n",
    "history_model2=conv_3d2.train_model(conv_3d2_model)"
   ]
  },
  {
   "cell_type": "code",
   "execution_count": 15,
   "metadata": {
    "execution": {
     "iopub.execute_input": "2021-12-24T09:06:01.426915Z",
     "iopub.status.busy": "2021-12-24T09:06:01.426720Z",
     "iopub.status.idle": "2021-12-24T09:06:01.925046Z",
     "shell.execute_reply": "2021-12-24T09:06:01.924358Z",
     "shell.execute_reply.started": "2021-12-24T09:06:01.426890Z"
    }
   },
   "outputs": [
    {
     "data": {
      "image/png": "[encoded data removed]",
      "text/plain": [
       "<Figure size 1080x288 with 2 Axes>"
      ]
     },
     "metadata": {
      "needs_background": "light"
     },
     "output_type": "display_data"
    }
   ],
   "source": [
    "plot(history_model2)"
   ]
  },
  {
   "cell_type": "markdown",
   "metadata": {},
   "source": [
    "> - **We can clearly see Model is Overfitting**\n",
    "> - **We need to introduce Regularization technique to control Overfitting.**"
   ]
  },
  {
   "cell_type": "markdown",
   "metadata": {},
   "source": [
    "## Model 3 - Using Dropout "
   ]
  },
  {
   "cell_type": "code",
   "execution_count": 16,
   "metadata": {
    "execution": {
     "iopub.execute_input": "2021-12-24T09:06:01.931289Z",
     "iopub.status.busy": "2021-12-24T09:06:01.929274Z",
     "iopub.status.idle": "2021-12-24T09:06:01.963151Z",
     "shell.execute_reply": "2021-12-24T09:06:01.954997Z",
     "shell.execute_reply.started": "2021-12-24T09:06:01.931251Z"
    }
   },
   "outputs": [],
   "source": [
    "class ModelConv3D4(ModelBuilder):\n",
    "    \n",
    "    def define_model(self,filtersize=(3,3,3),dense_neurons=64,dropout=0.25):\n",
    "\n",
    "        model = Sequential()\n",
    "        model.add(Conv3D(16, filtersize, padding='same',\n",
    "                 input_shape=(self.frames_to_sample,self.image_height,self.image_width,self.channels)))\n",
    "        model.add(Activation('relu'))\n",
    "        model.add(BatchNormalization())\n",
    "        \n",
    "        model.add(Conv3D(16, filtersize, padding='same',\n",
    "                 input_shape=(self.frames_to_sample,self.image_height,self.image_width,self.channels)))\n",
    "        model.add(Activation('relu'))\n",
    "        model.add(BatchNormalization())\n",
    "        \n",
    "        model.add(MaxPooling3D(pool_size=(2, 2, 2)))\n",
    "\n",
    "        model.add(Conv3D(32, filtersize, padding='same'))\n",
    "        model.add(Activation('relu'))\n",
    "        model.add(BatchNormalization())\n",
    "        \n",
    "        model.add(Conv3D(32, filtersize, padding='same'))\n",
    "        model.add(Activation('relu'))\n",
    "        model.add(BatchNormalization())\n",
    "        \n",
    "        model.add(MaxPooling3D(pool_size=(2, 2, 2)))\n",
    "\n",
    "        model.add(Conv3D(64, filtersize, padding='same'))\n",
    "        model.add(Activation('relu'))\n",
    "        model.add(BatchNormalization())\n",
    "        \n",
    "        model.add(Conv3D(64, filtersize, padding='same'))\n",
    "        model.add(Activation('relu'))\n",
    "        model.add(BatchNormalization())\n",
    "        \n",
    "        model.add(MaxPooling3D(pool_size=(2, 2, 2)))\n",
    "\n",
    "        model.add(Conv3D(128, filtersize, padding='same'))\n",
    "        model.add(Activation('relu'))\n",
    "        model.add(BatchNormalization())\n",
    "        \n",
    "        model.add(Conv3D(128, filtersize, padding='same'))\n",
    "        model.add(Activation('relu'))\n",
    "        model.add(BatchNormalization())\n",
    "        \n",
    "        model.add(MaxPooling3D(pool_size=(2, 2, 2)))\n",
    "        \n",
    "\n",
    "        model.add(Flatten())\n",
    "        model.add(Dense(dense_neurons,activation='relu'))\n",
    "        model.add(BatchNormalization())\n",
    "        model.add(Dropout(dropout))\n",
    "\n",
    "        model.add(Dense(dense_neurons,activation='relu'))\n",
    "        model.add(BatchNormalization())\n",
    "        model.add(Dropout(dropout))\n",
    "\n",
    "\n",
    "        model.add(Dense(self.num_classes,activation='softmax'))\n",
    "\n",
    "        optimiser = tf.optimizers.Adam()\n",
    "        model.compile(optimizer=optimiser, loss='categorical_crossentropy', metrics=['categorical_accuracy'])\n",
    "        return model"
   ]
  },
  {
   "cell_type": "code",
   "execution_count": 17,
   "metadata": {
    "execution": {
     "iopub.execute_input": "2021-12-24T09:06:01.964646Z",
     "iopub.status.busy": "2021-12-24T09:06:01.964277Z",
     "iopub.status.idle": "2021-12-24T09:06:02.338102Z",
     "shell.execute_reply": "2021-12-24T09:06:02.337425Z",
     "shell.execute_reply.started": "2021-12-24T09:06:01.964612Z"
    }
   },
   "outputs": [
    {
     "name": "stdout",
     "output_type": "stream",
     "text": [
      "Model: \"sequential_2\"\n",
      "_________________________________________________________________\n",
      "Layer (type)                 Output Shape              Param #   \n",
      "=================================================================\n",
      "conv3d_8 (Conv3D)            (None, 16, 120, 120, 16)  1312      \n",
      "_________________________________________________________________\n",
      "activation_8 (Activation)    (None, 16, 120, 120, 16)  0         \n",
      "_________________________________________________________________\n",
      "batch_normalization_12 (Batc (None, 16, 120, 120, 16)  64        \n",
      "_________________________________________________________________\n",
      "conv3d_9 (Conv3D)            (None, 16, 120, 120, 16)  6928      \n",
      "_________________________________________________________________\n",
      "activation_9 (Activation)    (None, 16, 120, 120, 16)  0         \n",
      "_________________________________________________________________\n",
      "batch_normalization_13 (Batc (None, 16, 120, 120, 16)  64        \n",
      "_________________________________________________________________\n",
      "max_pooling3d_8 (MaxPooling3 (None, 8, 60, 60, 16)     0         \n",
      "_________________________________________________________________\n",
      "conv3d_10 (Conv3D)           (None, 8, 60, 60, 32)     13856     \n",
      "_________________________________________________________________\n",
      "activation_10 (Activation)   (None, 8, 60, 60, 32)     0         \n",
      "_________________________________________________________________\n",
      "batch_normalization_14 (Batc (None, 8, 60, 60, 32)     128       \n",
      "_________________________________________________________________\n",
      "conv3d_11 (Conv3D)           (None, 8, 60, 60, 32)     27680     \n",
      "_________________________________________________________________\n",
      "activation_11 (Activation)   (None, 8, 60, 60, 32)     0         \n",
      "_________________________________________________________________\n",
      "batch_normalization_15 (Batc (None, 8, 60, 60, 32)     128       \n",
      "_________________________________________________________________\n",
      "max_pooling3d_9 (MaxPooling3 (None, 4, 30, 30, 32)     0         \n",
      "_________________________________________________________________\n",
      "conv3d_12 (Conv3D)           (None, 4, 30, 30, 64)     55360     \n",
      "_________________________________________________________________\n",
      "activation_12 (Activation)   (None, 4, 30, 30, 64)     0         \n",
      "_________________________________________________________________\n",
      "batch_normalization_16 (Batc (None, 4, 30, 30, 64)     256       \n",
      "_________________________________________________________________\n",
      "conv3d_13 (Conv3D)           (None, 4, 30, 30, 64)     110656    \n",
      "_________________________________________________________________\n",
      "activation_13 (Activation)   (None, 4, 30, 30, 64)     0         \n",
      "_________________________________________________________________\n",
      "batch_normalization_17 (Batc (None, 4, 30, 30, 64)     256       \n",
      "_________________________________________________________________\n",
      "max_pooling3d_10 (MaxPooling (None, 2, 15, 15, 64)     0         \n",
      "_________________________________________________________________\n",
      "conv3d_14 (Conv3D)           (None, 2, 15, 15, 128)    221312    \n",
      "_________________________________________________________________\n",
      "activation_14 (Activation)   (None, 2, 15, 15, 128)    0         \n",
      "_________________________________________________________________\n",
      "batch_normalization_18 (Batc (None, 2, 15, 15, 128)    512       \n",
      "_________________________________________________________________\n",
      "conv3d_15 (Conv3D)           (None, 2, 15, 15, 128)    442496    \n",
      "_________________________________________________________________\n",
      "activation_15 (Activation)   (None, 2, 15, 15, 128)    0         \n",
      "_________________________________________________________________\n",
      "batch_normalization_19 (Batc (None, 2, 15, 15, 128)    512       \n",
      "_________________________________________________________________\n",
      "max_pooling3d_11 (MaxPooling (None, 1, 7, 7, 128)      0         \n",
      "_________________________________________________________________\n",
      "flatten_2 (Flatten)          (None, 6272)              0         \n",
      "_________________________________________________________________\n",
      "dense_6 (Dense)              (None, 256)               1605888   \n",
      "_________________________________________________________________\n",
      "batch_normalization_20 (Batc (None, 256)               1024      \n",
      "_________________________________________________________________\n",
      "dropout_4 (Dropout)          (None, 256)               0         \n",
      "_________________________________________________________________\n",
      "dense_7 (Dense)              (None, 256)               65792     \n",
      "_________________________________________________________________\n",
      "batch_normalization_21 (Batc (None, 256)               1024      \n",
      "_________________________________________________________________\n",
      "dropout_5 (Dropout)          (None, 256)               0         \n",
      "_________________________________________________________________\n",
      "dense_8 (Dense)              (None, 5)                 1285      \n",
      "=================================================================\n",
      "Total params: 2,556,533\n",
      "Trainable params: 2,554,549\n",
      "Non-trainable params: 1,984\n",
      "_________________________________________________________________\n"
     ]
    }
   ],
   "source": [
    "conv_3d4=ModelConv3D4()\n",
    "conv_3d4.initialize_path(project_folder)\n",
    "conv_3d4.initialize_image_properties(image_height=120,image_width=120)\n",
    "conv_3d4.initialize_hyperparams(frames_to_sample=16,batch_size=30,num_epochs=25)\n",
    "conv_3d4_model=conv_3d4.define_model(filtersize=(3,3,3),dense_neurons=256,dropout=0.5)\n",
    "conv_3d4_model.summary()"
   ]
  },
  {
   "cell_type": "code",
   "execution_count": 18,
   "metadata": {
    "execution": {
     "iopub.execute_input": "2021-12-24T09:06:02.343777Z",
     "iopub.status.busy": "2021-12-24T09:06:02.341920Z",
     "iopub.status.idle": "2021-12-24T09:16:19.387408Z",
     "shell.execute_reply": "2021-12-24T09:16:19.386554Z",
     "shell.execute_reply.started": "2021-12-24T09:06:02.343736Z"
    }
   },
   "outputs": [
    {
     "name": "stdout",
     "output_type": "stream",
     "text": [
      "Total Params: 2556533\n",
      "Epoch 1/25\n",
      "23/23 [==============================] - 57s 2s/step - loss: 2.0622 - categorical_accuracy: 0.3529 - val_loss: 1.5136 - val_categorical_accuracy: 0.3500\n",
      "\n",
      "Epoch 00001: val_loss improved from inf to 1.51356, saving model to model_init_2021-12-2409_06_02.349646/model-00001-2.06222-0.35294-1.51356-0.35000.h5\n",
      "Epoch 2/25\n",
      "23/23 [==============================] - 52s 2s/step - loss: 1.6295 - categorical_accuracy: 0.4419 - val_loss: 3.0699 - val_categorical_accuracy: 0.2000\n",
      "\n",
      "Epoch 00002: val_loss did not improve from 1.51356\n",
      "Epoch 3/25\n",
      "23/23 [==============================] - 59s 3s/step - loss: 1.6302 - categorical_accuracy: 0.4419 - val_loss: 2.4649 - val_categorical_accuracy: 0.2600\n",
      "\n",
      "Epoch 00003: val_loss did not improve from 1.51356\n",
      "Epoch 4/25\n",
      "23/23 [==============================] - 53s 2s/step - loss: 1.3914 - categorical_accuracy: 0.4947 - val_loss: 4.2830 - val_categorical_accuracy: 0.1600\n",
      "\n",
      "Epoch 00004: val_loss did not improve from 1.51356\n",
      "Epoch 5/25\n",
      "23/23 [==============================] - 54s 2s/step - loss: 1.2117 - categorical_accuracy: 0.5551 - val_loss: 4.6885 - val_categorical_accuracy: 0.2700\n",
      "\n",
      "Epoch 00005: val_loss did not improve from 1.51356\n",
      "\n",
      "Epoch 00005: ReduceLROnPlateau reducing learning rate to 0.00020000000949949026.\n",
      "Epoch 6/25\n",
      "23/23 [==============================] - 62s 3s/step - loss: 1.3355 - categorical_accuracy: 0.5053 - val_loss: 5.0942 - val_categorical_accuracy: 0.2700\n",
      "\n",
      "Epoch 00006: val_loss did not improve from 1.51356\n",
      "Epoch 7/25\n",
      "23/23 [==============================] - 57s 3s/step - loss: 1.1734 - categorical_accuracy: 0.5505 - val_loss: 4.3632 - val_categorical_accuracy: 0.2300\n",
      "\n",
      "Epoch 00007: val_loss did not improve from 1.51356\n",
      "Epoch 8/25\n",
      "23/23 [==============================] - 63s 3s/step - loss: 1.1843 - categorical_accuracy: 0.5777 - val_loss: 3.7649 - val_categorical_accuracy: 0.2500\n",
      "\n",
      "Epoch 00008: val_loss did not improve from 1.51356\n",
      "Epoch 9/25\n",
      "23/23 [==============================] - 52s 2s/step - loss: 1.0973 - categorical_accuracy: 0.6214 - val_loss: 3.3578 - val_categorical_accuracy: 0.2400\n",
      "\n",
      "Epoch 00009: val_loss did not improve from 1.51356\n",
      "\n",
      "Epoch 00009: ReduceLROnPlateau reducing learning rate to 4.0000001899898055e-05.\n",
      "Epoch 10/25\n",
      "23/23 [==============================] - 53s 2s/step - loss: 1.0735 - categorical_accuracy: 0.6078 - val_loss: 3.1826 - val_categorical_accuracy: 0.2800\n",
      "\n",
      "Epoch 00010: val_loss did not improve from 1.51356\n",
      "Epoch 11/25\n",
      "23/23 [==============================] - 52s 2s/step - loss: 1.0135 - categorical_accuracy: 0.6109 - val_loss: 2.8031 - val_categorical_accuracy: 0.2100\n",
      "\n",
      "Epoch 00011: val_loss did not improve from 1.51356\n",
      "Epoch 00011: early stopping\n"
     ]
    }
   ],
   "source": [
    "print(\"Total Params:\", conv_3d4_model.count_params())\n",
    "history_model3=conv_3d4.train_model(conv_3d4_model)"
   ]
  },
  {
   "cell_type": "code",
   "execution_count": 20,
   "metadata": {
    "execution": {
     "iopub.execute_input": "2021-12-24T09:19:04.814558Z",
     "iopub.status.busy": "2021-12-24T09:19:04.814290Z",
     "iopub.status.idle": "2021-12-24T09:19:05.201957Z",
     "shell.execute_reply": "2021-12-24T09:19:05.201273Z",
     "shell.execute_reply.started": "2021-12-24T09:19:04.814526Z"
    }
   },
   "outputs": [
    {
     "data": {
      "image/png": "[encoded data removed]",
      "text/plain": [
       "<Figure size 1080x288 with 2 Axes>"
      ]
     },
     "metadata": {
      "needs_background": "light"
     },
     "output_type": "display_data"
    }
   ],
   "source": [
    "plot(history_model3)"
   ]
  },
  {
   "cell_type": "markdown",
   "metadata": {},
   "source": [
    "> Still Overfitting\n",
    "\n",
    "> It seems CNN also is not sufficient to handle problem we should try with different Architecture Like LSTM or GRU."
   ]
  },
  {
   "cell_type": "markdown",
   "metadata": {},
   "source": [
    "## Model 4 - CNN- LSTM Model"
   ]
  },
  {
   "cell_type": "code",
   "execution_count": 22,
   "metadata": {
    "execution": {
     "iopub.execute_input": "2021-12-24T09:20:04.907522Z",
     "iopub.status.busy": "2021-12-24T09:20:04.907266Z",
     "iopub.status.idle": "2021-12-24T09:20:04.921830Z",
     "shell.execute_reply": "2021-12-24T09:20:04.921108Z",
     "shell.execute_reply.started": "2021-12-24T09:20:04.907493Z"
    }
   },
   "outputs": [],
   "source": [
    "class RNNCNN1(ModelBuilder):\n",
    "    \n",
    "    def define_model(self,lstm_cells=64,dense_neurons=64,dropout=0.25):\n",
    "\n",
    "        model = Sequential()\n",
    "\n",
    "        model.add(TimeDistributed(Conv2D(16, (3, 3) , padding='same', activation='relu'),\n",
    "                                  input_shape=(self.frames_to_sample,self.image_height,self.image_width,self.channels)))\n",
    "        model.add(TimeDistributed(BatchNormalization()))\n",
    "        model.add(TimeDistributed(MaxPooling2D((2, 2))))\n",
    "        \n",
    "        model.add(TimeDistributed(Conv2D(32, (3, 3) , padding='same', activation='relu')))\n",
    "        model.add(TimeDistributed(BatchNormalization()))\n",
    "        model.add(TimeDistributed(MaxPooling2D((2, 2))))\n",
    "        \n",
    "        model.add(TimeDistributed(Conv2D(64, (3, 3) , padding='same', activation='relu')))\n",
    "        model.add(TimeDistributed(BatchNormalization()))\n",
    "        model.add(TimeDistributed(MaxPooling2D((2, 2))))\n",
    "        \n",
    "        model.add(TimeDistributed(Conv2D(128, (3, 3) , padding='same', activation='relu')))\n",
    "        model.add(TimeDistributed(BatchNormalization()))\n",
    "        model.add(TimeDistributed(MaxPooling2D((2, 2))))\n",
    "        \n",
    "        model.add(TimeDistributed(Conv2D(256, (3, 3) , padding='same', activation='relu')))\n",
    "        model.add(TimeDistributed(BatchNormalization()))\n",
    "        model.add(TimeDistributed(MaxPooling2D((2, 2))))\n",
    "        \n",
    "        #model.add(TimeDistributed(Conv2D(512, (2, 2) , padding='valid', activation='relu')))\n",
    "       # model.add(TimeDistributed(BatchNormalization()))\n",
    "       # model.add(TimeDistributed(MaxPooling2D((2, 2))))\n",
    "\n",
    "        model.add(TimeDistributed(Flatten()))\n",
    "\n",
    "\n",
    "        model.add(LSTM(lstm_cells))\n",
    "        model.add(Dropout(dropout))\n",
    "        \n",
    "        model.add(Dense(dense_neurons,activation='relu'))\n",
    "        model.add(Dropout(dropout))\n",
    "        \n",
    "        model.add(Dense(self.num_classes, activation='softmax'))\n",
    "        optimiser = tf.optimizers.Adam()\n",
    "        model.compile(optimizer=optimiser, loss='categorical_crossentropy', metrics=['categorical_accuracy'])\n",
    "        return model"
   ]
  },
  {
   "cell_type": "code",
   "execution_count": 23,
   "metadata": {
    "execution": {
     "iopub.execute_input": "2021-12-24T09:20:07.810777Z",
     "iopub.status.busy": "2021-12-24T09:20:07.810246Z",
     "iopub.status.idle": "2021-12-24T09:20:08.099341Z",
     "shell.execute_reply": "2021-12-24T09:20:08.098615Z",
     "shell.execute_reply.started": "2021-12-24T09:20:07.810734Z"
    }
   },
   "outputs": [
    {
     "name": "stdout",
     "output_type": "stream",
     "text": [
      "Model: \"sequential_4\"\n",
      "_________________________________________________________________\n",
      "Layer (type)                 Output Shape              Param #   \n",
      "=================================================================\n",
      "time_distributed_16 (TimeDis (None, 18, 120, 120, 16)  448       \n",
      "_________________________________________________________________\n",
      "time_distributed_17 (TimeDis (None, 18, 120, 120, 16)  64        \n",
      "_________________________________________________________________\n",
      "time_distributed_18 (TimeDis (None, 18, 60, 60, 16)    0         \n",
      "_________________________________________________________________\n",
      "time_distributed_19 (TimeDis (None, 18, 60, 60, 32)    4640      \n",
      "_________________________________________________________________\n",
      "time_distributed_20 (TimeDis (None, 18, 60, 60, 32)    128       \n",
      "_________________________________________________________________\n",
      "time_distributed_21 (TimeDis (None, 18, 30, 30, 32)    0         \n",
      "_________________________________________________________________\n",
      "time_distributed_22 (TimeDis (None, 18, 30, 30, 64)    18496     \n",
      "_________________________________________________________________\n",
      "time_distributed_23 (TimeDis (None, 18, 30, 30, 64)    256       \n",
      "_________________________________________________________________\n",
      "time_distributed_24 (TimeDis (None, 18, 15, 15, 64)    0         \n",
      "_________________________________________________________________\n",
      "time_distributed_25 (TimeDis (None, 18, 15, 15, 128)   73856     \n",
      "_________________________________________________________________\n",
      "time_distributed_26 (TimeDis (None, 18, 15, 15, 128)   512       \n",
      "_________________________________________________________________\n",
      "time_distributed_27 (TimeDis (None, 18, 7, 7, 128)     0         \n",
      "_________________________________________________________________\n",
      "time_distributed_28 (TimeDis (None, 18, 7, 7, 256)     295168    \n",
      "_________________________________________________________________\n",
      "time_distributed_29 (TimeDis (None, 18, 7, 7, 256)     1024      \n",
      "_________________________________________________________________\n",
      "time_distributed_30 (TimeDis (None, 18, 3, 3, 256)     0         \n",
      "_________________________________________________________________\n",
      "time_distributed_31 (TimeDis (None, 18, 2304)          0         \n",
      "_________________________________________________________________\n",
      "lstm_1 (LSTM)                (None, 128)               1245696   \n",
      "_________________________________________________________________\n",
      "dropout_8 (Dropout)          (None, 128)               0         \n",
      "_________________________________________________________________\n",
      "dense_11 (Dense)             (None, 128)               16512     \n",
      "_________________________________________________________________\n",
      "dropout_9 (Dropout)          (None, 128)               0         \n",
      "_________________________________________________________________\n",
      "dense_12 (Dense)             (None, 5)                 645       \n",
      "=================================================================\n",
      "Total params: 1,657,445\n",
      "Trainable params: 1,656,453\n",
      "Non-trainable params: 992\n",
      "_________________________________________________________________\n"
     ]
    }
   ],
   "source": [
    "rnn_cnn1=RNNCNN1()\n",
    "rnn_cnn1.initialize_path(project_folder)\n",
    "rnn_cnn1.initialize_image_properties(image_height=120,image_width=120)\n",
    "rnn_cnn1.initialize_hyperparams(frames_to_sample=18,batch_size=20,num_epochs=20)\n",
    "rnn_cnn1_model=rnn_cnn1.define_model(lstm_cells=128,dense_neurons=128,dropout=0.25)\n",
    "rnn_cnn1_model.summary()"
   ]
  },
  {
   "cell_type": "code",
   "execution_count": 24,
   "metadata": {
    "execution": {
     "iopub.execute_input": "2021-12-24T09:20:37.399873Z",
     "iopub.status.busy": "2021-12-24T09:20:37.399622Z",
     "iopub.status.idle": "2021-12-24T09:33:09.844566Z",
     "shell.execute_reply": "2021-12-24T09:33:09.843883Z",
     "shell.execute_reply.started": "2021-12-24T09:20:37.399844Z"
    }
   },
   "outputs": [
    {
     "name": "stdout",
     "output_type": "stream",
     "text": [
      "Total Params: 1657445\n",
      "Epoch 1/20\n",
      "34/34 [==============================] - 71s 2s/step - loss: 1.4262 - categorical_accuracy: 0.3756 - val_loss: 2.1421 - val_categorical_accuracy: 0.2100\n",
      "\n",
      "Epoch 00001: val_loss improved from inf to 2.14213, saving model to model_init_2021-12-2409_20_37.402181/model-00001-1.42618-0.37557-2.14213-0.21000.h5\n",
      "Epoch 2/20\n",
      "34/34 [==============================] - 63s 2s/step - loss: 1.1791 - categorical_accuracy: 0.5083 - val_loss: 2.0040 - val_categorical_accuracy: 0.2100\n",
      "\n",
      "Epoch 00002: val_loss improved from 2.14213 to 2.00402, saving model to model_init_2021-12-2409_20_37.402181/model-00002-1.17913-0.50830-2.00402-0.21000.h5\n",
      "Epoch 3/20\n",
      "34/34 [==============================] - 68s 2s/step - loss: 1.0708 - categorical_accuracy: 0.5732 - val_loss: 2.2839 - val_categorical_accuracy: 0.2200\n",
      "\n",
      "Epoch 00003: val_loss did not improve from 2.00402\n",
      "Epoch 4/20\n",
      "34/34 [==============================] - 63s 2s/step - loss: 1.0349 - categorical_accuracy: 0.5686 - val_loss: 2.6750 - val_categorical_accuracy: 0.2200\n",
      "\n",
      "Epoch 00004: val_loss did not improve from 2.00402\n",
      "Epoch 5/20\n",
      "34/34 [==============================] - 61s 2s/step - loss: 0.9116 - categorical_accuracy: 0.6154 - val_loss: 2.8180 - val_categorical_accuracy: 0.1900\n",
      "\n",
      "Epoch 00005: val_loss did not improve from 2.00402\n",
      "Epoch 6/20\n",
      "34/34 [==============================] - 61s 2s/step - loss: 0.7985 - categorical_accuracy: 0.6802 - val_loss: 2.4496 - val_categorical_accuracy: 0.2300\n",
      "\n",
      "Epoch 00006: val_loss did not improve from 2.00402\n",
      "\n",
      "Epoch 00006: ReduceLROnPlateau reducing learning rate to 0.00020000000949949026.\n",
      "Epoch 7/20\n",
      "34/34 [==============================] - 59s 2s/step - loss: 0.7203 - categorical_accuracy: 0.7164 - val_loss: 2.6565 - val_categorical_accuracy: 0.2400\n",
      "\n",
      "Epoch 00007: val_loss did not improve from 2.00402\n",
      "Epoch 8/20\n",
      "34/34 [==============================] - 63s 2s/step - loss: 0.6448 - categorical_accuracy: 0.7557 - val_loss: 2.7789 - val_categorical_accuracy: 0.2400\n",
      "\n",
      "Epoch 00008: val_loss did not improve from 2.00402\n",
      "Epoch 9/20\n",
      "34/34 [==============================] - 61s 2s/step - loss: 0.5966 - categorical_accuracy: 0.7873 - val_loss: 2.6207 - val_categorical_accuracy: 0.2800\n",
      "\n",
      "Epoch 00009: val_loss did not improve from 2.00402\n",
      "Epoch 10/20\n",
      "34/34 [==============================] - 61s 2s/step - loss: 0.5291 - categorical_accuracy: 0.8311 - val_loss: 2.3797 - val_categorical_accuracy: 0.3000\n",
      "\n",
      "Epoch 00010: val_loss did not improve from 2.00402\n",
      "\n",
      "Epoch 00010: ReduceLROnPlateau reducing learning rate to 4.0000001899898055e-05.\n",
      "Epoch 11/20\n",
      "34/34 [==============================] - 58s 2s/step - loss: 0.4829 - categorical_accuracy: 0.8326 - val_loss: 2.5042 - val_categorical_accuracy: 0.2800\n",
      "\n",
      "Epoch 00011: val_loss did not improve from 2.00402\n",
      "Epoch 12/20\n",
      "34/34 [==============================] - 62s 2s/step - loss: 0.4615 - categorical_accuracy: 0.8477 - val_loss: 2.4205 - val_categorical_accuracy: 0.2800\n",
      "\n",
      "Epoch 00012: val_loss did not improve from 2.00402\n",
      "Epoch 00012: early stopping\n"
     ]
    }
   ],
   "source": [
    "print(\"Total Params:\", rnn_cnn1_model.count_params())\n",
    "history_model4=rnn_cnn1.train_model(rnn_cnn1_model)"
   ]
  },
  {
   "cell_type": "markdown",
   "metadata": {},
   "source": [
    "##### We can see  val_loss did not improve from 0.28 so earlystopping stops the epoch automatically!! \n",
    "- Last Epoch stop on 12/20!! good job earlystopping ;)\n",
    "- Best weights save automatically. The validation accuracy of 28% and training accuracy of 84%. \n",
    "- Still Model is Overfitting."
   ]
  },
  {
   "cell_type": "code",
   "execution_count": 25,
   "metadata": {
    "execution": {
     "iopub.execute_input": "2021-12-24T09:40:14.979771Z",
     "iopub.status.busy": "2021-12-24T09:40:14.979009Z",
     "iopub.status.idle": "2021-12-24T09:41:03.546421Z",
     "shell.execute_reply": "2021-12-24T09:41:03.545750Z",
     "shell.execute_reply.started": "2021-12-24T09:40:14.979730Z"
    }
   },
   "outputs": [
    {
     "data": {
      "image/png": "[encoded data removed]",
      "text/plain": [
       "<Figure size 1080x288 with 2 Axes>"
      ]
     },
     "metadata": {
      "needs_background": "light"
     },
     "output_type": "display_data"
    }
   ],
   "source": [
    "plot(history_model4)"
   ]
  },
  {
   "cell_type": "markdown",
   "metadata": {},
   "source": [
    "> Still Overfitting.\n",
    "\n",
    "> After 12 Epoch Validation loss didn’t improve.\n",
    "\n",
    ">We can try using Transfer Learning.\n"
   ]
  },
  {
   "cell_type": "markdown",
   "metadata": {},
   "source": [
    "## Model 5 - Let us bring in Transfer Learning !! :\n",
    "\n",
    "### Transfer Learning + LSTM"
   ]
  },
  {
   "cell_type": "code",
   "execution_count": 26,
   "metadata": {
    "execution": {
     "iopub.execute_input": "2021-12-24T09:42:26.994529Z",
     "iopub.status.busy": "2021-12-24T09:42:26.993888Z",
     "iopub.status.idle": "2021-12-24T09:42:26.998504Z",
     "shell.execute_reply": "2021-12-24T09:42:26.997763Z",
     "shell.execute_reply.started": "2021-12-24T09:42:26.994493Z"
    }
   },
   "outputs": [],
   "source": [
    "# importing the MobileNet model due to it's lightweight architecture and high speed performance as compared \n",
    "# to other heavy-duty models like VGG16, Alexnet, InceptionV3 etc. Also, we are now also running on low disk space \n",
    "# in the nimblebox.ai platform. \n",
    "\n",
    "from keras.applications import mobilenet"
   ]
  },
  {
   "cell_type": "code",
   "execution_count": 33,
   "metadata": {
    "execution": {
     "iopub.execute_input": "2021-12-24T09:53:49.817535Z",
     "iopub.status.busy": "2021-12-24T09:53:49.817225Z",
     "iopub.status.idle": "2021-12-24T09:53:50.303717Z",
     "shell.execute_reply": "2021-12-24T09:53:50.302985Z",
     "shell.execute_reply.started": "2021-12-24T09:53:49.817501Z"
    }
   },
   "outputs": [],
   "source": [
    "mobilenet_transfer = mobilenet.MobileNet(weights='imagenet', include_top=False)\n",
    "\n",
    "class RNNCNN_TL(ModelBuilder):\n",
    "    \n",
    "    def define_model(self,lstm_cells=64,dense_neurons=64,dropout=0.25):\n",
    "        \n",
    "        model = Sequential()\n",
    "        model.add(TimeDistributed(mobilenet_transfer,input_shape=(self.frames_to_sample,self.image_height,self.image_width,self.channels)))\n",
    "        \n",
    "        \n",
    "        for layer in model.layers:\n",
    "            layer.trainable = False\n",
    "        \n",
    "        \n",
    "        model.add(TimeDistributed(BatchNormalization()))\n",
    "        model.add(TimeDistributed(MaxPooling2D((2, 2))))\n",
    "        model.add(TimeDistributed(Flatten()))\n",
    "\n",
    "        model.add(LSTM(lstm_cells))\n",
    "        model.add(Dropout(dropout))\n",
    "        \n",
    "        model.add(Dense(dense_neurons,activation='relu'))\n",
    "        model.add(Dropout(dropout))\n",
    "        \n",
    "        model.add(Dense(self.num_classes, activation='softmax'))\n",
    "        \n",
    "        \n",
    "        optimiser = tf.optimizers.Adam()\n",
    "        model.compile(optimizer=optimiser, loss='categorical_crossentropy', metrics=['categorical_accuracy'])\n",
    "        return model"
   ]
  },
  {
   "cell_type": "code",
   "execution_count": 34,
   "metadata": {
    "execution": {
     "iopub.execute_input": "2021-12-24T09:53:53.669514Z",
     "iopub.status.busy": "2021-12-24T09:53:53.668914Z",
     "iopub.status.idle": "2021-12-24T09:53:54.141642Z",
     "shell.execute_reply": "2021-12-24T09:53:54.140937Z",
     "shell.execute_reply.started": "2021-12-24T09:53:53.669476Z"
    }
   },
   "outputs": [
    {
     "name": "stdout",
     "output_type": "stream",
     "text": [
      "Model: \"sequential_6\"\n",
      "_________________________________________________________________\n",
      "Layer (type)                 Output Shape              Param #   \n",
      "=================================================================\n",
      "time_distributed_36 (TimeDis (None, 16, 3, 3, 1024)    3228864   \n",
      "_________________________________________________________________\n",
      "time_distributed_37 (TimeDis (None, 16, 3, 3, 1024)    4096      \n",
      "_________________________________________________________________\n",
      "time_distributed_38 (TimeDis (None, 16, 1, 1, 1024)    0         \n",
      "_________________________________________________________________\n",
      "time_distributed_39 (TimeDis (None, 16, 1024)          0         \n",
      "_________________________________________________________________\n",
      "lstm_3 (LSTM)                (None, 128)               590336    \n",
      "_________________________________________________________________\n",
      "dropout_12 (Dropout)         (None, 128)               0         \n",
      "_________________________________________________________________\n",
      "dense_15 (Dense)             (None, 128)               16512     \n",
      "_________________________________________________________________\n",
      "dropout_13 (Dropout)         (None, 128)               0         \n",
      "_________________________________________________________________\n",
      "dense_16 (Dense)             (None, 5)                 645       \n",
      "=================================================================\n",
      "Total params: 3,840,453\n",
      "Trainable params: 609,541\n",
      "Non-trainable params: 3,230,912\n",
      "_________________________________________________________________\n"
     ]
    }
   ],
   "source": [
    "rnn_cnn_tl=RNNCNN_TL()\n",
    "rnn_cnn_tl.initialize_path(project_folder)\n",
    "rnn_cnn_tl.initialize_image_properties(image_height=120,image_width=120)\n",
    "rnn_cnn_tl.initialize_hyperparams(frames_to_sample=16,batch_size=5,num_epochs=20)\n",
    "rnn_cnn_tl_model=rnn_cnn_tl.define_model(lstm_cells=128,dense_neurons=128,dropout=0.25)\n",
    "rnn_cnn_tl_model.summary()"
   ]
  },
  {
   "cell_type": "code",
   "execution_count": 35,
   "metadata": {
    "execution": {
     "iopub.execute_input": "2021-12-24T09:54:44.499028Z",
     "iopub.status.busy": "2021-12-24T09:54:44.498028Z",
     "iopub.status.idle": "2021-12-24T10:09:20.120359Z",
     "shell.execute_reply": "2021-12-24T10:09:20.119598Z",
     "shell.execute_reply.started": "2021-12-24T09:54:44.498984Z"
    }
   },
   "outputs": [
    {
     "name": "stdout",
     "output_type": "stream",
     "text": [
      "Total Params: 3840453\n",
      "Epoch 1/20\n",
      "133/133 [==============================] - 70s 502ms/step - loss: 1.4150 - categorical_accuracy: 0.3982 - val_loss: 1.0162 - val_categorical_accuracy: 0.6700\n",
      "\n",
      "Epoch 00001: val_loss improved from inf to 1.01620, saving model to model_init_2021-12-2409_54_44.503895/model-00001-1.41500-0.39819-1.01620-0.67000.h5\n",
      "Epoch 2/20\n",
      "133/133 [==============================] - 62s 467ms/step - loss: 0.9044 - categorical_accuracy: 0.6757 - val_loss: 0.8725 - val_categorical_accuracy: 0.6300\n",
      "\n",
      "Epoch 00002: val_loss improved from 1.01620 to 0.87250, saving model to model_init_2021-12-2409_54_44.503895/model-00002-0.90439-0.67572-0.87250-0.63000.h5\n",
      "Epoch 3/20\n",
      "133/133 [==============================] - 63s 476ms/step - loss: 0.6739 - categorical_accuracy: 0.7662 - val_loss: 0.7270 - val_categorical_accuracy: 0.6600\n",
      "\n",
      "Epoch 00003: val_loss improved from 0.87250 to 0.72700, saving model to model_init_2021-12-2409_54_44.503895/model-00003-0.67390-0.76621-0.72700-0.66000.h5\n",
      "Epoch 4/20\n",
      "133/133 [==============================] - 60s 457ms/step - loss: 0.4808 - categorical_accuracy: 0.8326 - val_loss: 0.8316 - val_categorical_accuracy: 0.6900\n",
      "\n",
      "Epoch 00004: val_loss did not improve from 0.72700\n",
      "Epoch 5/20\n",
      "133/133 [==============================] - 59s 446ms/step - loss: 0.2960 - categorical_accuracy: 0.9020 - val_loss: 0.7000 - val_categorical_accuracy: 0.7400\n",
      "\n",
      "Epoch 00005: val_loss improved from 0.72700 to 0.69998, saving model to model_init_2021-12-2409_54_44.503895/model-00005-0.29601-0.90196-0.69998-0.74000.h5\n",
      "Epoch 6/20\n",
      "133/133 [==============================] - 57s 435ms/step - loss: 0.2487 - categorical_accuracy: 0.9035 - val_loss: 0.8127 - val_categorical_accuracy: 0.6500\n",
      "\n",
      "Epoch 00006: val_loss did not improve from 0.69998\n",
      "Epoch 7/20\n",
      "133/133 [==============================] - 57s 431ms/step - loss: 0.1742 - categorical_accuracy: 0.9472 - val_loss: 1.1326 - val_categorical_accuracy: 0.6500\n",
      "\n",
      "Epoch 00007: val_loss did not improve from 0.69998\n",
      "Epoch 8/20\n",
      "133/133 [==============================] - 55s 417ms/step - loss: 0.1300 - categorical_accuracy: 0.9487 - val_loss: 0.8770 - val_categorical_accuracy: 0.6400\n",
      "\n",
      "Epoch 00008: val_loss did not improve from 0.69998\n",
      "Epoch 9/20\n",
      "133/133 [==============================] - 55s 418ms/step - loss: 0.1101 - categorical_accuracy: 0.9683 - val_loss: 0.8547 - val_categorical_accuracy: 0.7300\n",
      "\n",
      "Epoch 00009: val_loss did not improve from 0.69998\n",
      "\n",
      "Epoch 00009: ReduceLROnPlateau reducing learning rate to 0.00020000000949949026.\n",
      "Epoch 10/20\n",
      "133/133 [==============================] - 55s 413ms/step - loss: 0.1099 - categorical_accuracy: 0.9653 - val_loss: 0.9397 - val_categorical_accuracy: 0.6500\n",
      "\n",
      "Epoch 00010: val_loss did not improve from 0.69998\n",
      "Epoch 11/20\n",
      "133/133 [==============================] - 59s 444ms/step - loss: 0.0474 - categorical_accuracy: 0.9864 - val_loss: 0.8351 - val_categorical_accuracy: 0.6900\n",
      "\n",
      "Epoch 00011: val_loss did not improve from 0.69998\n",
      "Epoch 12/20\n",
      "133/133 [==============================] - 57s 434ms/step - loss: 0.0431 - categorical_accuracy: 0.9894 - val_loss: 0.9760 - val_categorical_accuracy: 0.6900\n",
      "\n",
      "Epoch 00012: val_loss did not improve from 0.69998\n",
      "Epoch 13/20\n",
      "133/133 [==============================] - 55s 415ms/step - loss: 0.0351 - categorical_accuracy: 0.9940 - val_loss: 0.9373 - val_categorical_accuracy: 0.6400\n",
      "\n",
      "Epoch 00013: val_loss did not improve from 0.69998\n",
      "\n",
      "Epoch 00013: ReduceLROnPlateau reducing learning rate to 4.0000001899898055e-05.\n",
      "Epoch 14/20\n",
      "133/133 [==============================] - 55s 413ms/step - loss: 0.0398 - categorical_accuracy: 0.9894 - val_loss: 0.9618 - val_categorical_accuracy: 0.7000\n",
      "\n",
      "Epoch 00014: val_loss did not improve from 0.69998\n",
      "Epoch 15/20\n",
      "133/133 [==============================] - 55s 418ms/step - loss: 0.0390 - categorical_accuracy: 0.9864 - val_loss: 0.9916 - val_categorical_accuracy: 0.6900\n",
      "\n",
      "Epoch 00015: val_loss did not improve from 0.69998\n",
      "Epoch 00015: early stopping\n"
     ]
    }
   ],
   "source": [
    "print(\"Total Params:\", rnn_cnn_tl_model.count_params())\n",
    "history_model5=rnn_cnn_tl.train_model(rnn_cnn_tl_model)"
   ]
  },
  {
   "cell_type": "code",
   "execution_count": 36,
   "metadata": {
    "execution": {
     "iopub.execute_input": "2021-12-24T10:11:41.108629Z",
     "iopub.status.busy": "2021-12-24T10:11:41.108357Z",
     "iopub.status.idle": "2021-12-24T10:12:10.365414Z",
     "shell.execute_reply": "2021-12-24T10:12:10.364757Z",
     "shell.execute_reply.started": "2021-12-24T10:11:41.108597Z"
    }
   },
   "outputs": [
    {
     "data": {
      "image/png": "[encoded data removed]",
      "text/plain": [
       "<Figure size 1080x288 with 2 Axes>"
      ]
     },
     "metadata": {
      "needs_background": "light"
     },
     "output_type": "display_data"
    }
   ],
   "source": [
    "plot(history_model5)"
   ]
  },
  {
   "cell_type": "markdown",
   "metadata": {},
   "source": [
    "> Improvisation in Validation Accuracy.\n",
    "\n",
    "> Still better result can be achieved.\n",
    "\n",
    "> Let try with GRU.\n"
   ]
  },
  {
   "cell_type": "markdown",
   "metadata": {},
   "source": [
    "## Model 6 - Transfer Learning + GRU"
   ]
  },
  {
   "cell_type": "code",
   "execution_count": 40,
   "metadata": {
    "execution": {
     "iopub.execute_input": "2021-12-24T10:13:41.093672Z",
     "iopub.status.busy": "2021-12-24T10:13:41.093414Z",
     "iopub.status.idle": "2021-12-24T10:13:41.630349Z",
     "shell.execute_reply": "2021-12-24T10:13:41.629584Z",
     "shell.execute_reply.started": "2021-12-24T10:13:41.093640Z"
    }
   },
   "outputs": [],
   "source": [
    "from keras.applications import mobilenet\n",
    "\n",
    "mobilenet_transfer = mobilenet.MobileNet(weights='imagenet', include_top=False)\n",
    "\n",
    "class RNNCNN_TL2(ModelBuilder):\n",
    "    \n",
    "    def define_model(self,gru_cells=64,dense_neurons=64,dropout=0.25):\n",
    "        \n",
    "        model = Sequential()\n",
    "        model.add(TimeDistributed(mobilenet_transfer,input_shape=(self.frames_to_sample,self.image_height,self.image_width,self.channels)))\n",
    " \n",
    "        \n",
    "        model.add(TimeDistributed(BatchNormalization()))\n",
    "        model.add(TimeDistributed(MaxPooling2D((2, 2))))\n",
    "        model.add(TimeDistributed(Flatten()))\n",
    "\n",
    "        model.add(GRU(gru_cells))\n",
    "        model.add(Dropout(dropout))\n",
    "        \n",
    "        model.add(Dense(dense_neurons,activation='relu'))\n",
    "        model.add(Dropout(dropout))\n",
    "        \n",
    "        model.add(Dense(self.num_classes, activation='softmax'))\n",
    "        \n",
    "        \n",
    "        optimiser = tf.optimizers.Adam()\n",
    "        model.compile(optimizer=optimiser, loss='categorical_crossentropy', metrics=['categorical_accuracy'])\n",
    "        return model"
   ]
  },
  {
   "cell_type": "code",
   "execution_count": 41,
   "metadata": {
    "execution": {
     "iopub.execute_input": "2021-12-24T10:13:54.137737Z",
     "iopub.status.busy": "2021-12-24T10:13:54.137481Z",
     "iopub.status.idle": "2021-12-24T10:13:54.654570Z",
     "shell.execute_reply": "2021-12-24T10:13:54.653888Z",
     "shell.execute_reply.started": "2021-12-24T10:13:54.137707Z"
    }
   },
   "outputs": [
    {
     "name": "stdout",
     "output_type": "stream",
     "text": [
      "Model: \"sequential_7\"\n",
      "_________________________________________________________________\n",
      "Layer (type)                 Output Shape              Param #   \n",
      "=================================================================\n",
      "time_distributed_40 (TimeDis (None, 16, 3, 3, 1024)    3228864   \n",
      "_________________________________________________________________\n",
      "time_distributed_41 (TimeDis (None, 16, 3, 3, 1024)    4096      \n",
      "_________________________________________________________________\n",
      "time_distributed_42 (TimeDis (None, 16, 1, 1, 1024)    0         \n",
      "_________________________________________________________________\n",
      "time_distributed_43 (TimeDis (None, 16, 1024)          0         \n",
      "_________________________________________________________________\n",
      "gru (GRU)                    (None, 128)               443136    \n",
      "_________________________________________________________________\n",
      "dropout_14 (Dropout)         (None, 128)               0         \n",
      "_________________________________________________________________\n",
      "dense_17 (Dense)             (None, 128)               16512     \n",
      "_________________________________________________________________\n",
      "dropout_15 (Dropout)         (None, 128)               0         \n",
      "_________________________________________________________________\n",
      "dense_18 (Dense)             (None, 5)                 645       \n",
      "=================================================================\n",
      "Total params: 3,693,253\n",
      "Trainable params: 3,669,317\n",
      "Non-trainable params: 23,936\n",
      "_________________________________________________________________\n"
     ]
    }
   ],
   "source": [
    "rnn_cnn_tl2=RNNCNN_TL2()\n",
    "rnn_cnn_tl2.initialize_path(project_folder)\n",
    "rnn_cnn_tl2.initialize_image_properties(image_height=120,image_width=120)\n",
    "rnn_cnn_tl2.initialize_hyperparams(frames_to_sample=16,batch_size=5,num_epochs=20)\n",
    "rnn_cnn_tl2_model=rnn_cnn_tl2.define_model(gru_cells=128,dense_neurons=128,dropout=0.25)\n",
    "rnn_cnn_tl2_model.summary()"
   ]
  },
  {
   "cell_type": "code",
   "execution_count": 43,
   "metadata": {
    "execution": {
     "iopub.execute_input": "2021-12-24T10:14:30.346791Z",
     "iopub.status.busy": "2021-12-24T10:14:30.346541Z",
     "iopub.status.idle": "2021-12-24T10:31:56.034086Z",
     "shell.execute_reply": "2021-12-24T10:31:56.033304Z",
     "shell.execute_reply.started": "2021-12-24T10:14:30.346762Z"
    }
   },
   "outputs": [
    {
     "name": "stdout",
     "output_type": "stream",
     "text": [
      "Total Params: 3693253\n",
      "Epoch 1/20\n",
      "133/133 [==============================] - 64s 454ms/step - loss: 1.3510 - categorical_accuracy: 0.4374 - val_loss: 1.0117 - val_categorical_accuracy: 0.5800\n",
      "\n",
      "Epoch 00001: val_loss improved from inf to 1.01171, saving model to model_init_2021-12-2410_14_30.351074/model-00001-1.35104-0.43741-1.01171-0.58000.h5\n",
      "Epoch 2/20\n",
      "133/133 [==============================] - 50s 374ms/step - loss: 0.8313 - categorical_accuracy: 0.7044 - val_loss: 0.8192 - val_categorical_accuracy: 0.6500\n",
      "\n",
      "Epoch 00002: val_loss improved from 1.01171 to 0.81919, saving model to model_init_2021-12-2410_14_30.351074/model-00002-0.83129-0.70437-0.81919-0.65000.h5\n",
      "Epoch 3/20\n",
      "133/133 [==============================] - 51s 384ms/step - loss: 0.7883 - categorical_accuracy: 0.7089 - val_loss: 0.4762 - val_categorical_accuracy: 0.8400\n",
      "\n",
      "Epoch 00003: val_loss improved from 0.81919 to 0.47620, saving model to model_init_2021-12-2410_14_30.351074/model-00003-0.78830-0.70890-0.47620-0.84000.h5\n",
      "Epoch 4/20\n",
      "133/133 [==============================] - 50s 375ms/step - loss: 0.5257 - categorical_accuracy: 0.8100 - val_loss: 0.3268 - val_categorical_accuracy: 0.9200\n",
      "\n",
      "Epoch 00004: val_loss improved from 0.47620 to 0.32682, saving model to model_init_2021-12-2410_14_30.351074/model-00004-0.52574-0.80995-0.32682-0.92000.h5\n",
      "Epoch 5/20\n",
      "133/133 [==============================] - 51s 385ms/step - loss: 0.4234 - categorical_accuracy: 0.8431 - val_loss: 0.2899 - val_categorical_accuracy: 0.9100\n",
      "\n",
      "Epoch 00005: val_loss improved from 0.32682 to 0.28986, saving model to model_init_2021-12-2410_14_30.351074/model-00005-0.42337-0.84314-0.28986-0.91000.h5\n",
      "Epoch 6/20\n",
      "133/133 [==============================] - 49s 368ms/step - loss: 0.3867 - categorical_accuracy: 0.8522 - val_loss: 0.3666 - val_categorical_accuracy: 0.8600\n",
      "\n",
      "Epoch 00006: val_loss did not improve from 0.28986\n",
      "Epoch 7/20\n",
      "133/133 [==============================] - 49s 368ms/step - loss: 0.3868 - categorical_accuracy: 0.8612 - val_loss: 1.1800 - val_categorical_accuracy: 0.6000\n",
      "\n",
      "Epoch 00007: val_loss did not improve from 0.28986\n",
      "Epoch 8/20\n",
      "133/133 [==============================] - 48s 366ms/step - loss: 0.3686 - categorical_accuracy: 0.8673 - val_loss: 0.2949 - val_categorical_accuracy: 0.8800\n",
      "\n",
      "Epoch 00008: val_loss did not improve from 0.28986\n",
      "Epoch 9/20\n",
      "133/133 [==============================] - 49s 373ms/step - loss: 0.2679 - categorical_accuracy: 0.9125 - val_loss: 0.2090 - val_categorical_accuracy: 0.9400\n",
      "\n",
      "Epoch 00009: val_loss improved from 0.28986 to 0.20896, saving model to model_init_2021-12-2410_14_30.351074/model-00009-0.26791-0.91252-0.20896-0.94000.h5\n",
      "Epoch 10/20\n",
      "133/133 [==============================] - 49s 372ms/step - loss: 0.2849 - categorical_accuracy: 0.9170 - val_loss: 0.3933 - val_categorical_accuracy: 0.8800\n",
      "\n",
      "Epoch 00010: val_loss did not improve from 0.20896\n",
      "Epoch 11/20\n",
      "133/133 [==============================] - 50s 381ms/step - loss: 0.1978 - categorical_accuracy: 0.9412 - val_loss: 0.3190 - val_categorical_accuracy: 0.8800\n",
      "\n",
      "Epoch 00011: val_loss did not improve from 0.20896\n",
      "Epoch 12/20\n",
      "133/133 [==============================] - 48s 364ms/step - loss: 0.3666 - categorical_accuracy: 0.8944 - val_loss: 0.7128 - val_categorical_accuracy: 0.8400\n",
      "\n",
      "Epoch 00012: val_loss did not improve from 0.20896\n",
      "Epoch 13/20\n",
      "133/133 [==============================] - 50s 377ms/step - loss: 0.3868 - categorical_accuracy: 0.8718 - val_loss: 0.5240 - val_categorical_accuracy: 0.8600\n",
      "\n",
      "Epoch 00013: val_loss did not improve from 0.20896\n",
      "\n",
      "Epoch 00013: ReduceLROnPlateau reducing learning rate to 0.00020000000949949026.\n",
      "Epoch 14/20\n",
      "133/133 [==============================] - 49s 367ms/step - loss: 0.2253 - categorical_accuracy: 0.9351 - val_loss: 0.2994 - val_categorical_accuracy: 0.9000\n",
      "\n",
      "Epoch 00014: val_loss did not improve from 0.20896\n",
      "Epoch 15/20\n",
      "133/133 [==============================] - 49s 368ms/step - loss: 0.1597 - categorical_accuracy: 0.9517 - val_loss: 0.1326 - val_categorical_accuracy: 0.9700\n",
      "\n",
      "Epoch 00015: val_loss improved from 0.20896 to 0.13263, saving model to model_init_2021-12-2410_14_30.351074/model-00015-0.15974-0.95173-0.13263-0.97000.h5\n",
      "Epoch 16/20\n",
      "133/133 [==============================] - 49s 372ms/step - loss: 0.0859 - categorical_accuracy: 0.9789 - val_loss: 0.2986 - val_categorical_accuracy: 0.9100\n",
      "\n",
      "Epoch 00016: val_loss did not improve from 0.13263\n",
      "Epoch 17/20\n",
      "133/133 [==============================] - 50s 375ms/step - loss: 0.0939 - categorical_accuracy: 0.9713 - val_loss: 0.2623 - val_categorical_accuracy: 0.9300\n",
      "\n",
      "Epoch 00017: val_loss did not improve from 0.13263\n",
      "Epoch 18/20\n",
      "133/133 [==============================] - 49s 369ms/step - loss: 0.0579 - categorical_accuracy: 0.9819 - val_loss: 0.1364 - val_categorical_accuracy: 0.9500\n",
      "\n",
      "Epoch 00018: val_loss did not improve from 0.13263\n",
      "Epoch 19/20\n",
      "133/133 [==============================] - 49s 371ms/step - loss: 0.0551 - categorical_accuracy: 0.9804 - val_loss: 0.1740 - val_categorical_accuracy: 0.9600\n",
      "\n",
      "Epoch 00019: val_loss did not improve from 0.13263\n",
      "\n",
      "Epoch 00019: ReduceLROnPlateau reducing learning rate to 4.0000001899898055e-05.\n",
      "Epoch 20/20\n",
      "133/133 [==============================] - 49s 370ms/step - loss: 0.0500 - categorical_accuracy: 0.9925 - val_loss: 0.1998 - val_categorical_accuracy: 0.9600\n",
      "\n",
      "Epoch 00020: val_loss did not improve from 0.13263\n"
     ]
    }
   ],
   "source": [
    "print(\"Total Params:\", rnn_cnn_tl2_model.count_params())\n",
    "history_model6=rnn_cnn_tl2.train_model(rnn_cnn_tl2_model)"
   ]
  },
  {
   "cell_type": "code",
   "execution_count": 44,
   "metadata": {
    "execution": {
     "iopub.execute_input": "2021-12-24T10:46:55.154923Z",
     "iopub.status.busy": "2021-12-24T10:46:55.154660Z",
     "iopub.status.idle": "2021-12-24T10:46:55.507617Z",
     "shell.execute_reply": "2021-12-24T10:46:55.506952Z",
     "shell.execute_reply.started": "2021-12-24T10:46:55.154892Z"
    }
   },
   "outputs": [
    {
     "data": {
      "image/png": "[encoded data removed]",
      "text/plain": [
       "<Figure size 1080x288 with 2 Axes>"
      ]
     },
     "metadata": {
      "needs_background": "light"
     },
     "output_type": "display_data"
    }
   ],
   "source": [
    "plot(history_model6)"
   ]
  },
  {
   "cell_type": "markdown",
   "metadata": {},
   "source": [
    "> **We can Model 6 has stopped overfitting and brought a Significant Training and Validation Accuracy.**\n",
    "\n",
    "> **Training Accuracy is 99% whereas Validation Accuracy is 96%.**\n",
    "\n",
    "> **Model 6 is our Final Model and it will be used for the Prediction.**"
   ]
  },
  {
   "cell_type": "markdown",
   "metadata": {},
   "source": [
    "### Loading model and Testing"
   ]
  },
  {
   "cell_type": "code",
   "execution_count": 45,
   "metadata": {
    "execution": {
     "iopub.execute_input": "2021-12-24T10:48:19.894353Z",
     "iopub.status.busy": "2021-12-24T10:48:19.893765Z",
     "iopub.status.idle": "2021-12-24T10:48:21.166199Z",
     "shell.execute_reply": "2021-12-24T10:48:21.165451Z",
     "shell.execute_reply.started": "2021-12-24T10:48:19.894310Z"
    }
   },
   "outputs": [],
   "source": [
    "import time\n",
    "from keras.models import load_model\n",
    "model = load_model('model_init_2021-12-2410_14_30.351074/model-00015-0.15974-0.95173-0.13263-0.97000.h5')"
   ]
  },
  {
   "cell_type": "code",
   "execution_count": 46,
   "metadata": {
    "execution": {
     "iopub.execute_input": "2021-12-24T10:48:47.464744Z",
     "iopub.status.busy": "2021-12-24T10:48:47.464473Z",
     "iopub.status.idle": "2021-12-24T10:48:49.354690Z",
     "shell.execute_reply": "2021-12-24T10:48:49.353966Z",
     "shell.execute_reply.started": "2021-12-24T10:48:47.464713Z"
    }
   },
   "outputs": [],
   "source": [
    "test_generator=RNNCNN1()\n",
    "test_generator.initialize_path(project_folder)\n",
    "test_generator.initialize_image_properties(image_height=120,image_width=120)\n",
    "test_generator.initialize_hyperparams(frames_to_sample=18,batch_size=20,num_epochs=20)\n",
    "\n",
    "g=test_generator.generator(test_generator.val_path,test_generator.val_doc,augment=False)\n",
    "batch_data, batch_labels=next(g)"
   ]
  },
  {
   "cell_type": "code",
   "execution_count": 47,
   "metadata": {
    "execution": {
     "iopub.execute_input": "2021-12-24T10:49:00.212994Z",
     "iopub.status.busy": "2021-12-24T10:49:00.212174Z",
     "iopub.status.idle": "2021-12-24T10:49:00.219560Z",
     "shell.execute_reply": "2021-12-24T10:49:00.218878Z",
     "shell.execute_reply.started": "2021-12-24T10:49:00.212947Z"
    }
   },
   "outputs": [
    {
     "data": {
      "text/plain": [
       "array([[1., 0., 0., 0., 0.],\n",
       "       [0., 1., 0., 0., 0.],\n",
       "       [0., 0., 1., 0., 0.],\n",
       "       [1., 0., 0., 0., 0.],\n",
       "       [0., 0., 0., 0., 1.],\n",
       "       [0., 0., 1., 0., 0.],\n",
       "       [0., 0., 0., 0., 1.],\n",
       "       [0., 0., 1., 0., 0.],\n",
       "       [0., 0., 0., 0., 1.],\n",
       "       [0., 0., 0., 1., 0.],\n",
       "       [1., 0., 0., 0., 0.],\n",
       "       [1., 0., 0., 0., 0.],\n",
       "       [0., 1., 0., 0., 0.],\n",
       "       [1., 0., 0., 0., 0.],\n",
       "       [1., 0., 0., 0., 0.],\n",
       "       [0., 0., 1., 0., 0.],\n",
       "       [1., 0., 0., 0., 0.],\n",
       "       [0., 0., 0., 1., 0.],\n",
       "       [0., 0., 0., 0., 1.],\n",
       "       [0., 0., 0., 0., 1.]])"
      ]
     },
     "execution_count": 47,
     "metadata": {},
     "output_type": "execute_result"
    }
   ],
   "source": [
    "batch_labels"
   ]
  },
  {
   "cell_type": "code",
   "execution_count": 48,
   "metadata": {
    "execution": {
     "iopub.execute_input": "2021-12-24T10:49:12.523969Z",
     "iopub.status.busy": "2021-12-24T10:49:12.523661Z",
     "iopub.status.idle": "2021-12-24T10:49:14.215261Z",
     "shell.execute_reply": "2021-12-24T10:49:14.213747Z",
     "shell.execute_reply.started": "2021-12-24T10:49:12.523914Z"
    }
   },
   "outputs": [
    {
     "name": "stdout",
     "output_type": "stream",
     "text": [
      "[2 1 2 0 4 2 4 2 4 3 0 0 1 0 0 2 0 3 4 4]\n"
     ]
    }
   ],
   "source": [
    "print(np.argmax(model.predict(batch_data[:,:,:,:,:]),axis=1))"
   ]
  },
  {
   "cell_type": "code",
   "execution_count": null,
   "metadata": {},
   "outputs": [],
   "source": []
  }
 ],
 "metadata": {
  "kernelspec": {
   "display_name": "Python 3",
   "language": "python",
   "name": "python3"
  },
  "language_info": {
   "codemirror_mode": {
    "name": "ipython",
    "version": 3
   },
   "file_extension": ".py",
   "mimetype": "text/x-python",
   "name": "python",
   "nbconvert_exporter": "python",
   "pygments_lexer": "ipython3",
   "version": "3.7.1"
  }
 },
 "nbformat": 4,
 "nbformat_minor": 4
}
